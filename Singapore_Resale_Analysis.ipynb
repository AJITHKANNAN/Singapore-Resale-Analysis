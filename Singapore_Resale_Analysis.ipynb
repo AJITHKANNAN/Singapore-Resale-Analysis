{
  "cells": [
    {
      "cell_type": "code",
      "execution_count": 2,
      "metadata": {
        "colab": {
          "base_uri": "https://localhost:8080/"
        },
        "id": "AABa2uOeJQVn",
        "outputId": "01e86df4-1a1b-42b5-8267-02e0367acf61"
      },
      "outputs": [
        {
          "output_type": "stream",
          "name": "stdout",
          "text": [
            "Mounted at /content/drive\n"
          ]
        }
      ],
      "source": [
        "import pandas as pd\n",
        "import numpy as np\n",
        "import seaborn as sns\n",
        "import matplotlib.pyplot as plt\n",
        "\n",
        "import warnings\n",
        "warnings.filterwarnings('ignore')\n",
        "\n",
        "from google.colab import drive\n",
        "drive.mount('/content/drive')"
      ]
    },
    {
      "cell_type": "code",
      "execution_count": 3,
      "metadata": {
        "colab": {
          "base_uri": "https://localhost:8080/",
          "height": 293
        },
        "id": "9Mn9BC_kJz5Q",
        "outputId": "e004f758-4e51-4d46-a55c-e1d0b715b56d"
      },
      "outputs": [
        {
          "output_type": "execute_result",
          "data": {
            "text/plain": [
              "     month        town flat_type block       street_name storey_range  \\\n",
              "0  2000-01  ANG MO KIO    3 ROOM   170  ANG MO KIO AVE 4     07 TO 09   \n",
              "1  2000-01  ANG MO KIO    3 ROOM   174  ANG MO KIO AVE 4     04 TO 06   \n",
              "2  2000-01  ANG MO KIO    3 ROOM   216  ANG MO KIO AVE 1     07 TO 09   \n",
              "3  2000-01  ANG MO KIO    3 ROOM   215  ANG MO KIO AVE 1     07 TO 09   \n",
              "4  2000-01  ANG MO KIO    3 ROOM   218  ANG MO KIO AVE 1     07 TO 09   \n",
              "\n",
              "   floor_area_sqm      flat_model  lease_commence_date  resale_price  \\\n",
              "0            69.0        Improved                 1986      147000.0   \n",
              "1            61.0        Improved                 1986      144000.0   \n",
              "2            73.0  New Generation                 1976      159000.0   \n",
              "3            73.0  New Generation                 1976      167000.0   \n",
              "4            67.0  New Generation                 1976      163000.0   \n",
              "\n",
              "  remaining_lease  \n",
              "0             NaN  \n",
              "1             NaN  \n",
              "2             NaN  \n",
              "3             NaN  \n",
              "4             NaN  "
            ],
            "text/html": [
              "\n",
              "  <div id=\"df-eaf0b37f-91f4-4475-8cd0-97a47950c451\" class=\"colab-df-container\">\n",
              "    <div>\n",
              "<style scoped>\n",
              "    .dataframe tbody tr th:only-of-type {\n",
              "        vertical-align: middle;\n",
              "    }\n",
              "\n",
              "    .dataframe tbody tr th {\n",
              "        vertical-align: top;\n",
              "    }\n",
              "\n",
              "    .dataframe thead th {\n",
              "        text-align: right;\n",
              "    }\n",
              "</style>\n",
              "<table border=\"1\" class=\"dataframe\">\n",
              "  <thead>\n",
              "    <tr style=\"text-align: right;\">\n",
              "      <th></th>\n",
              "      <th>month</th>\n",
              "      <th>town</th>\n",
              "      <th>flat_type</th>\n",
              "      <th>block</th>\n",
              "      <th>street_name</th>\n",
              "      <th>storey_range</th>\n",
              "      <th>floor_area_sqm</th>\n",
              "      <th>flat_model</th>\n",
              "      <th>lease_commence_date</th>\n",
              "      <th>resale_price</th>\n",
              "      <th>remaining_lease</th>\n",
              "    </tr>\n",
              "  </thead>\n",
              "  <tbody>\n",
              "    <tr>\n",
              "      <th>0</th>\n",
              "      <td>2000-01</td>\n",
              "      <td>ANG MO KIO</td>\n",
              "      <td>3 ROOM</td>\n",
              "      <td>170</td>\n",
              "      <td>ANG MO KIO AVE 4</td>\n",
              "      <td>07 TO 09</td>\n",
              "      <td>69.0</td>\n",
              "      <td>Improved</td>\n",
              "      <td>1986</td>\n",
              "      <td>147000.0</td>\n",
              "      <td>NaN</td>\n",
              "    </tr>\n",
              "    <tr>\n",
              "      <th>1</th>\n",
              "      <td>2000-01</td>\n",
              "      <td>ANG MO KIO</td>\n",
              "      <td>3 ROOM</td>\n",
              "      <td>174</td>\n",
              "      <td>ANG MO KIO AVE 4</td>\n",
              "      <td>04 TO 06</td>\n",
              "      <td>61.0</td>\n",
              "      <td>Improved</td>\n",
              "      <td>1986</td>\n",
              "      <td>144000.0</td>\n",
              "      <td>NaN</td>\n",
              "    </tr>\n",
              "    <tr>\n",
              "      <th>2</th>\n",
              "      <td>2000-01</td>\n",
              "      <td>ANG MO KIO</td>\n",
              "      <td>3 ROOM</td>\n",
              "      <td>216</td>\n",
              "      <td>ANG MO KIO AVE 1</td>\n",
              "      <td>07 TO 09</td>\n",
              "      <td>73.0</td>\n",
              "      <td>New Generation</td>\n",
              "      <td>1976</td>\n",
              "      <td>159000.0</td>\n",
              "      <td>NaN</td>\n",
              "    </tr>\n",
              "    <tr>\n",
              "      <th>3</th>\n",
              "      <td>2000-01</td>\n",
              "      <td>ANG MO KIO</td>\n",
              "      <td>3 ROOM</td>\n",
              "      <td>215</td>\n",
              "      <td>ANG MO KIO AVE 1</td>\n",
              "      <td>07 TO 09</td>\n",
              "      <td>73.0</td>\n",
              "      <td>New Generation</td>\n",
              "      <td>1976</td>\n",
              "      <td>167000.0</td>\n",
              "      <td>NaN</td>\n",
              "    </tr>\n",
              "    <tr>\n",
              "      <th>4</th>\n",
              "      <td>2000-01</td>\n",
              "      <td>ANG MO KIO</td>\n",
              "      <td>3 ROOM</td>\n",
              "      <td>218</td>\n",
              "      <td>ANG MO KIO AVE 1</td>\n",
              "      <td>07 TO 09</td>\n",
              "      <td>67.0</td>\n",
              "      <td>New Generation</td>\n",
              "      <td>1976</td>\n",
              "      <td>163000.0</td>\n",
              "      <td>NaN</td>\n",
              "    </tr>\n",
              "  </tbody>\n",
              "</table>\n",
              "</div>\n",
              "    <div class=\"colab-df-buttons\">\n",
              "\n",
              "  <div class=\"colab-df-container\">\n",
              "    <button class=\"colab-df-convert\" onclick=\"convertToInteractive('df-eaf0b37f-91f4-4475-8cd0-97a47950c451')\"\n",
              "            title=\"Convert this dataframe to an interactive table.\"\n",
              "            style=\"display:none;\">\n",
              "\n",
              "  <svg xmlns=\"http://www.w3.org/2000/svg\" height=\"24px\" viewBox=\"0 -960 960 960\">\n",
              "    <path d=\"M120-120v-720h720v720H120Zm60-500h600v-160H180v160Zm220 220h160v-160H400v160Zm0 220h160v-160H400v160ZM180-400h160v-160H180v160Zm440 0h160v-160H620v160ZM180-180h160v-160H180v160Zm440 0h160v-160H620v160Z\"/>\n",
              "  </svg>\n",
              "    </button>\n",
              "\n",
              "  <style>\n",
              "    .colab-df-container {\n",
              "      display:flex;\n",
              "      gap: 12px;\n",
              "    }\n",
              "\n",
              "    .colab-df-convert {\n",
              "      background-color: #E8F0FE;\n",
              "      border: none;\n",
              "      border-radius: 50%;\n",
              "      cursor: pointer;\n",
              "      display: none;\n",
              "      fill: #1967D2;\n",
              "      height: 32px;\n",
              "      padding: 0 0 0 0;\n",
              "      width: 32px;\n",
              "    }\n",
              "\n",
              "    .colab-df-convert:hover {\n",
              "      background-color: #E2EBFA;\n",
              "      box-shadow: 0px 1px 2px rgba(60, 64, 67, 0.3), 0px 1px 3px 1px rgba(60, 64, 67, 0.15);\n",
              "      fill: #174EA6;\n",
              "    }\n",
              "\n",
              "    .colab-df-buttons div {\n",
              "      margin-bottom: 4px;\n",
              "    }\n",
              "\n",
              "    [theme=dark] .colab-df-convert {\n",
              "      background-color: #3B4455;\n",
              "      fill: #D2E3FC;\n",
              "    }\n",
              "\n",
              "    [theme=dark] .colab-df-convert:hover {\n",
              "      background-color: #434B5C;\n",
              "      box-shadow: 0px 1px 3px 1px rgba(0, 0, 0, 0.15);\n",
              "      filter: drop-shadow(0px 1px 2px rgba(0, 0, 0, 0.3));\n",
              "      fill: #FFFFFF;\n",
              "    }\n",
              "  </style>\n",
              "\n",
              "    <script>\n",
              "      const buttonEl =\n",
              "        document.querySelector('#df-eaf0b37f-91f4-4475-8cd0-97a47950c451 button.colab-df-convert');\n",
              "      buttonEl.style.display =\n",
              "        google.colab.kernel.accessAllowed ? 'block' : 'none';\n",
              "\n",
              "      async function convertToInteractive(key) {\n",
              "        const element = document.querySelector('#df-eaf0b37f-91f4-4475-8cd0-97a47950c451');\n",
              "        const dataTable =\n",
              "          await google.colab.kernel.invokeFunction('convertToInteractive',\n",
              "                                                    [key], {});\n",
              "        if (!dataTable) return;\n",
              "\n",
              "        const docLinkHtml = 'Like what you see? Visit the ' +\n",
              "          '<a target=\"_blank\" href=https://colab.research.google.com/notebooks/data_table.ipynb>data table notebook</a>'\n",
              "          + ' to learn more about interactive tables.';\n",
              "        element.innerHTML = '';\n",
              "        dataTable['output_type'] = 'display_data';\n",
              "        await google.colab.output.renderOutput(dataTable, element);\n",
              "        const docLink = document.createElement('div');\n",
              "        docLink.innerHTML = docLinkHtml;\n",
              "        element.appendChild(docLink);\n",
              "      }\n",
              "    </script>\n",
              "  </div>\n",
              "\n",
              "\n",
              "<div id=\"df-1013247e-2200-4e45-ba06-0d73cde1e725\">\n",
              "  <button class=\"colab-df-quickchart\" onclick=\"quickchart('df-1013247e-2200-4e45-ba06-0d73cde1e725')\"\n",
              "            title=\"Suggest charts\"\n",
              "            style=\"display:none;\">\n",
              "\n",
              "<svg xmlns=\"http://www.w3.org/2000/svg\" height=\"24px\"viewBox=\"0 0 24 24\"\n",
              "     width=\"24px\">\n",
              "    <g>\n",
              "        <path d=\"M19 3H5c-1.1 0-2 .9-2 2v14c0 1.1.9 2 2 2h14c1.1 0 2-.9 2-2V5c0-1.1-.9-2-2-2zM9 17H7v-7h2v7zm4 0h-2V7h2v10zm4 0h-2v-4h2v4z\"/>\n",
              "    </g>\n",
              "</svg>\n",
              "  </button>\n",
              "\n",
              "<style>\n",
              "  .colab-df-quickchart {\n",
              "      --bg-color: #E8F0FE;\n",
              "      --fill-color: #1967D2;\n",
              "      --hover-bg-color: #E2EBFA;\n",
              "      --hover-fill-color: #174EA6;\n",
              "      --disabled-fill-color: #AAA;\n",
              "      --disabled-bg-color: #DDD;\n",
              "  }\n",
              "\n",
              "  [theme=dark] .colab-df-quickchart {\n",
              "      --bg-color: #3B4455;\n",
              "      --fill-color: #D2E3FC;\n",
              "      --hover-bg-color: #434B5C;\n",
              "      --hover-fill-color: #FFFFFF;\n",
              "      --disabled-bg-color: #3B4455;\n",
              "      --disabled-fill-color: #666;\n",
              "  }\n",
              "\n",
              "  .colab-df-quickchart {\n",
              "    background-color: var(--bg-color);\n",
              "    border: none;\n",
              "    border-radius: 50%;\n",
              "    cursor: pointer;\n",
              "    display: none;\n",
              "    fill: var(--fill-color);\n",
              "    height: 32px;\n",
              "    padding: 0;\n",
              "    width: 32px;\n",
              "  }\n",
              "\n",
              "  .colab-df-quickchart:hover {\n",
              "    background-color: var(--hover-bg-color);\n",
              "    box-shadow: 0 1px 2px rgba(60, 64, 67, 0.3), 0 1px 3px 1px rgba(60, 64, 67, 0.15);\n",
              "    fill: var(--button-hover-fill-color);\n",
              "  }\n",
              "\n",
              "  .colab-df-quickchart-complete:disabled,\n",
              "  .colab-df-quickchart-complete:disabled:hover {\n",
              "    background-color: var(--disabled-bg-color);\n",
              "    fill: var(--disabled-fill-color);\n",
              "    box-shadow: none;\n",
              "  }\n",
              "\n",
              "  .colab-df-spinner {\n",
              "    border: 2px solid var(--fill-color);\n",
              "    border-color: transparent;\n",
              "    border-bottom-color: var(--fill-color);\n",
              "    animation:\n",
              "      spin 1s steps(1) infinite;\n",
              "  }\n",
              "\n",
              "  @keyframes spin {\n",
              "    0% {\n",
              "      border-color: transparent;\n",
              "      border-bottom-color: var(--fill-color);\n",
              "      border-left-color: var(--fill-color);\n",
              "    }\n",
              "    20% {\n",
              "      border-color: transparent;\n",
              "      border-left-color: var(--fill-color);\n",
              "      border-top-color: var(--fill-color);\n",
              "    }\n",
              "    30% {\n",
              "      border-color: transparent;\n",
              "      border-left-color: var(--fill-color);\n",
              "      border-top-color: var(--fill-color);\n",
              "      border-right-color: var(--fill-color);\n",
              "    }\n",
              "    40% {\n",
              "      border-color: transparent;\n",
              "      border-right-color: var(--fill-color);\n",
              "      border-top-color: var(--fill-color);\n",
              "    }\n",
              "    60% {\n",
              "      border-color: transparent;\n",
              "      border-right-color: var(--fill-color);\n",
              "    }\n",
              "    80% {\n",
              "      border-color: transparent;\n",
              "      border-right-color: var(--fill-color);\n",
              "      border-bottom-color: var(--fill-color);\n",
              "    }\n",
              "    90% {\n",
              "      border-color: transparent;\n",
              "      border-bottom-color: var(--fill-color);\n",
              "    }\n",
              "  }\n",
              "</style>\n",
              "\n",
              "  <script>\n",
              "    async function quickchart(key) {\n",
              "      const quickchartButtonEl =\n",
              "        document.querySelector('#' + key + ' button');\n",
              "      quickchartButtonEl.disabled = true;  // To prevent multiple clicks.\n",
              "      quickchartButtonEl.classList.add('colab-df-spinner');\n",
              "      try {\n",
              "        const charts = await google.colab.kernel.invokeFunction(\n",
              "            'suggestCharts', [key], {});\n",
              "      } catch (error) {\n",
              "        console.error('Error during call to suggestCharts:', error);\n",
              "      }\n",
              "      quickchartButtonEl.classList.remove('colab-df-spinner');\n",
              "      quickchartButtonEl.classList.add('colab-df-quickchart-complete');\n",
              "    }\n",
              "    (() => {\n",
              "      let quickchartButtonEl =\n",
              "        document.querySelector('#df-1013247e-2200-4e45-ba06-0d73cde1e725 button');\n",
              "      quickchartButtonEl.style.display =\n",
              "        google.colab.kernel.accessAllowed ? 'block' : 'none';\n",
              "    })();\n",
              "  </script>\n",
              "</div>\n",
              "\n",
              "    </div>\n",
              "  </div>\n"
            ]
          },
          "metadata": {},
          "execution_count": 3
        }
      ],
      "source": [
        "# Load data\n",
        "data = pd.read_csv('/content/drive/MyDrive/SRA/combined_data.csv', low_memory=False)\n",
        "data.head()"
      ]
    },
    {
      "cell_type": "code",
      "execution_count": 4,
      "metadata": {
        "colab": {
          "base_uri": "https://localhost:8080/"
        },
        "id": "RWnfoKFuK5gd",
        "outputId": "5a1ab877-d02b-4217-f5ef-0cf8965c8607"
      },
      "outputs": [
        {
          "output_type": "stream",
          "name": "stdout",
          "text": [
            "<class 'pandas.core.frame.DataFrame'>\n",
            "RangeIndex: 916314 entries, 0 to 916313\n",
            "Data columns (total 11 columns):\n",
            " #   Column               Non-Null Count   Dtype  \n",
            "---  ------               --------------   -----  \n",
            " 0   month                916314 non-null  object \n",
            " 1   town                 916314 non-null  object \n",
            " 2   flat_type            916314 non-null  object \n",
            " 3   block                916314 non-null  object \n",
            " 4   street_name          916314 non-null  object \n",
            " 5   storey_range         916314 non-null  object \n",
            " 6   floor_area_sqm       916314 non-null  float64\n",
            " 7   flat_model           916314 non-null  object \n",
            " 8   lease_commence_date  916314 non-null  int64  \n",
            " 9   resale_price         916314 non-null  float64\n",
            " 10  remaining_lease      207264 non-null  object \n",
            "dtypes: float64(2), int64(1), object(8)\n",
            "memory usage: 76.9+ MB\n"
          ]
        }
      ],
      "source": [
        "data.columns\n",
        "data.info()"
      ]
    },
    {
      "cell_type": "code",
      "execution_count": 5,
      "metadata": {
        "colab": {
          "base_uri": "https://localhost:8080/"
        },
        "id": "goJ9ocN-LMQD",
        "outputId": "87687284-b653-4cae-9e9b-43161f3fb333"
      },
      "outputs": [
        {
          "output_type": "execute_result",
          "data": {
            "text/plain": [
              "month                       0\n",
              "town                        0\n",
              "flat_type                   0\n",
              "block                       0\n",
              "street_name                 0\n",
              "storey_range                0\n",
              "floor_area_sqm              0\n",
              "flat_model                  0\n",
              "lease_commence_date         0\n",
              "resale_price                0\n",
              "remaining_lease        709050\n",
              "dtype: int64"
            ]
          },
          "metadata": {},
          "execution_count": 5
        }
      ],
      "source": [
        "data.isna().sum()"
      ]
    },
    {
      "cell_type": "markdown",
      "metadata": {
        "id": "cp_KDzzES1hp"
      },
      "source": [
        "# Data Cleaning and Feature Engineering"
      ]
    },
    {
      "cell_type": "code",
      "execution_count": 6,
      "metadata": {
        "id": "o_iv0AzzKjaj"
      },
      "outputs": [],
      "source": [
        "# Extract features from 'month'\n",
        "data['month'] = pd.to_datetime(data['month'])\n",
        "data['year'] = data['month'].dt.year\n",
        "data['month'] = data['month'].dt.month\n",
        "\n",
        "# Create a new feature 'remaining_lease' based on 'lease_commence_date'\n",
        "data['remaining_lease'] = data['year'] - data['lease_commence_date']"
      ]
    },
    {
      "cell_type": "code",
      "execution_count": 7,
      "metadata": {
        "id": "B5m4i3Aiaocx"
      },
      "outputs": [],
      "source": [
        "# Dropping irrelevant features\n",
        "data.drop(['month', 'block', 'street_name'], axis = 1, inplace=True)"
      ]
    },
    {
      "cell_type": "code",
      "execution_count": 8,
      "metadata": {
        "colab": {
          "base_uri": "https://localhost:8080/",
          "height": 424
        },
        "id": "Qk8jJkUvbDST",
        "outputId": "96bf57b8-26fd-4d94-946d-5cde2b2c66de"
      },
      "outputs": [
        {
          "output_type": "execute_result",
          "data": {
            "text/plain": [
              "              town  flat_type storey_range  floor_area_sqm      flat_model  \\\n",
              "0       ANG MO KIO     3 ROOM     07 TO 09            69.0        Improved   \n",
              "1       ANG MO KIO     3 ROOM     04 TO 06            61.0        Improved   \n",
              "2       ANG MO KIO     3 ROOM     07 TO 09            73.0  New Generation   \n",
              "3       ANG MO KIO     3 ROOM     07 TO 09            73.0  New Generation   \n",
              "4       ANG MO KIO     3 ROOM     07 TO 09            67.0  New Generation   \n",
              "...            ...        ...          ...             ...             ...   \n",
              "916309      YISHUN  EXECUTIVE     10 TO 12           142.0       APARTMENT   \n",
              "916310      YISHUN  EXECUTIVE     01 TO 03           142.0       APARTMENT   \n",
              "916311      YISHUN  EXECUTIVE     07 TO 09           146.0      MAISONETTE   \n",
              "916312      YISHUN  EXECUTIVE     04 TO 06           146.0      MAISONETTE   \n",
              "916313      YISHUN  EXECUTIVE     01 TO 03           145.0      MAISONETTE   \n",
              "\n",
              "        lease_commence_date  resale_price  remaining_lease  year  \n",
              "0                      1986      147000.0               14  2000  \n",
              "1                      1986      144000.0               14  2000  \n",
              "2                      1976      159000.0               24  2000  \n",
              "3                      1976      167000.0               24  2000  \n",
              "4                      1976      163000.0               24  2000  \n",
              "...                     ...           ...              ...   ...  \n",
              "916309                 1987      456000.0               12  1999  \n",
              "916310                 1988      408000.0               11  1999  \n",
              "916311                 1988      469000.0               11  1999  \n",
              "916312                 1988      440000.0               11  1999  \n",
              "916313                 1988      484000.0               11  1999  \n",
              "\n",
              "[916314 rows x 9 columns]"
            ],
            "text/html": [
              "\n",
              "  <div id=\"df-1736bf55-0c66-4cc8-b0e9-91a84402122b\" class=\"colab-df-container\">\n",
              "    <div>\n",
              "<style scoped>\n",
              "    .dataframe tbody tr th:only-of-type {\n",
              "        vertical-align: middle;\n",
              "    }\n",
              "\n",
              "    .dataframe tbody tr th {\n",
              "        vertical-align: top;\n",
              "    }\n",
              "\n",
              "    .dataframe thead th {\n",
              "        text-align: right;\n",
              "    }\n",
              "</style>\n",
              "<table border=\"1\" class=\"dataframe\">\n",
              "  <thead>\n",
              "    <tr style=\"text-align: right;\">\n",
              "      <th></th>\n",
              "      <th>town</th>\n",
              "      <th>flat_type</th>\n",
              "      <th>storey_range</th>\n",
              "      <th>floor_area_sqm</th>\n",
              "      <th>flat_model</th>\n",
              "      <th>lease_commence_date</th>\n",
              "      <th>resale_price</th>\n",
              "      <th>remaining_lease</th>\n",
              "      <th>year</th>\n",
              "    </tr>\n",
              "  </thead>\n",
              "  <tbody>\n",
              "    <tr>\n",
              "      <th>0</th>\n",
              "      <td>ANG MO KIO</td>\n",
              "      <td>3 ROOM</td>\n",
              "      <td>07 TO 09</td>\n",
              "      <td>69.0</td>\n",
              "      <td>Improved</td>\n",
              "      <td>1986</td>\n",
              "      <td>147000.0</td>\n",
              "      <td>14</td>\n",
              "      <td>2000</td>\n",
              "    </tr>\n",
              "    <tr>\n",
              "      <th>1</th>\n",
              "      <td>ANG MO KIO</td>\n",
              "      <td>3 ROOM</td>\n",
              "      <td>04 TO 06</td>\n",
              "      <td>61.0</td>\n",
              "      <td>Improved</td>\n",
              "      <td>1986</td>\n",
              "      <td>144000.0</td>\n",
              "      <td>14</td>\n",
              "      <td>2000</td>\n",
              "    </tr>\n",
              "    <tr>\n",
              "      <th>2</th>\n",
              "      <td>ANG MO KIO</td>\n",
              "      <td>3 ROOM</td>\n",
              "      <td>07 TO 09</td>\n",
              "      <td>73.0</td>\n",
              "      <td>New Generation</td>\n",
              "      <td>1976</td>\n",
              "      <td>159000.0</td>\n",
              "      <td>24</td>\n",
              "      <td>2000</td>\n",
              "    </tr>\n",
              "    <tr>\n",
              "      <th>3</th>\n",
              "      <td>ANG MO KIO</td>\n",
              "      <td>3 ROOM</td>\n",
              "      <td>07 TO 09</td>\n",
              "      <td>73.0</td>\n",
              "      <td>New Generation</td>\n",
              "      <td>1976</td>\n",
              "      <td>167000.0</td>\n",
              "      <td>24</td>\n",
              "      <td>2000</td>\n",
              "    </tr>\n",
              "    <tr>\n",
              "      <th>4</th>\n",
              "      <td>ANG MO KIO</td>\n",
              "      <td>3 ROOM</td>\n",
              "      <td>07 TO 09</td>\n",
              "      <td>67.0</td>\n",
              "      <td>New Generation</td>\n",
              "      <td>1976</td>\n",
              "      <td>163000.0</td>\n",
              "      <td>24</td>\n",
              "      <td>2000</td>\n",
              "    </tr>\n",
              "    <tr>\n",
              "      <th>...</th>\n",
              "      <td>...</td>\n",
              "      <td>...</td>\n",
              "      <td>...</td>\n",
              "      <td>...</td>\n",
              "      <td>...</td>\n",
              "      <td>...</td>\n",
              "      <td>...</td>\n",
              "      <td>...</td>\n",
              "      <td>...</td>\n",
              "    </tr>\n",
              "    <tr>\n",
              "      <th>916309</th>\n",
              "      <td>YISHUN</td>\n",
              "      <td>EXECUTIVE</td>\n",
              "      <td>10 TO 12</td>\n",
              "      <td>142.0</td>\n",
              "      <td>APARTMENT</td>\n",
              "      <td>1987</td>\n",
              "      <td>456000.0</td>\n",
              "      <td>12</td>\n",
              "      <td>1999</td>\n",
              "    </tr>\n",
              "    <tr>\n",
              "      <th>916310</th>\n",
              "      <td>YISHUN</td>\n",
              "      <td>EXECUTIVE</td>\n",
              "      <td>01 TO 03</td>\n",
              "      <td>142.0</td>\n",
              "      <td>APARTMENT</td>\n",
              "      <td>1988</td>\n",
              "      <td>408000.0</td>\n",
              "      <td>11</td>\n",
              "      <td>1999</td>\n",
              "    </tr>\n",
              "    <tr>\n",
              "      <th>916311</th>\n",
              "      <td>YISHUN</td>\n",
              "      <td>EXECUTIVE</td>\n",
              "      <td>07 TO 09</td>\n",
              "      <td>146.0</td>\n",
              "      <td>MAISONETTE</td>\n",
              "      <td>1988</td>\n",
              "      <td>469000.0</td>\n",
              "      <td>11</td>\n",
              "      <td>1999</td>\n",
              "    </tr>\n",
              "    <tr>\n",
              "      <th>916312</th>\n",
              "      <td>YISHUN</td>\n",
              "      <td>EXECUTIVE</td>\n",
              "      <td>04 TO 06</td>\n",
              "      <td>146.0</td>\n",
              "      <td>MAISONETTE</td>\n",
              "      <td>1988</td>\n",
              "      <td>440000.0</td>\n",
              "      <td>11</td>\n",
              "      <td>1999</td>\n",
              "    </tr>\n",
              "    <tr>\n",
              "      <th>916313</th>\n",
              "      <td>YISHUN</td>\n",
              "      <td>EXECUTIVE</td>\n",
              "      <td>01 TO 03</td>\n",
              "      <td>145.0</td>\n",
              "      <td>MAISONETTE</td>\n",
              "      <td>1988</td>\n",
              "      <td>484000.0</td>\n",
              "      <td>11</td>\n",
              "      <td>1999</td>\n",
              "    </tr>\n",
              "  </tbody>\n",
              "</table>\n",
              "<p>916314 rows × 9 columns</p>\n",
              "</div>\n",
              "    <div class=\"colab-df-buttons\">\n",
              "\n",
              "  <div class=\"colab-df-container\">\n",
              "    <button class=\"colab-df-convert\" onclick=\"convertToInteractive('df-1736bf55-0c66-4cc8-b0e9-91a84402122b')\"\n",
              "            title=\"Convert this dataframe to an interactive table.\"\n",
              "            style=\"display:none;\">\n",
              "\n",
              "  <svg xmlns=\"http://www.w3.org/2000/svg\" height=\"24px\" viewBox=\"0 -960 960 960\">\n",
              "    <path d=\"M120-120v-720h720v720H120Zm60-500h600v-160H180v160Zm220 220h160v-160H400v160Zm0 220h160v-160H400v160ZM180-400h160v-160H180v160Zm440 0h160v-160H620v160ZM180-180h160v-160H180v160Zm440 0h160v-160H620v160Z\"/>\n",
              "  </svg>\n",
              "    </button>\n",
              "\n",
              "  <style>\n",
              "    .colab-df-container {\n",
              "      display:flex;\n",
              "      gap: 12px;\n",
              "    }\n",
              "\n",
              "    .colab-df-convert {\n",
              "      background-color: #E8F0FE;\n",
              "      border: none;\n",
              "      border-radius: 50%;\n",
              "      cursor: pointer;\n",
              "      display: none;\n",
              "      fill: #1967D2;\n",
              "      height: 32px;\n",
              "      padding: 0 0 0 0;\n",
              "      width: 32px;\n",
              "    }\n",
              "\n",
              "    .colab-df-convert:hover {\n",
              "      background-color: #E2EBFA;\n",
              "      box-shadow: 0px 1px 2px rgba(60, 64, 67, 0.3), 0px 1px 3px 1px rgba(60, 64, 67, 0.15);\n",
              "      fill: #174EA6;\n",
              "    }\n",
              "\n",
              "    .colab-df-buttons div {\n",
              "      margin-bottom: 4px;\n",
              "    }\n",
              "\n",
              "    [theme=dark] .colab-df-convert {\n",
              "      background-color: #3B4455;\n",
              "      fill: #D2E3FC;\n",
              "    }\n",
              "\n",
              "    [theme=dark] .colab-df-convert:hover {\n",
              "      background-color: #434B5C;\n",
              "      box-shadow: 0px 1px 3px 1px rgba(0, 0, 0, 0.15);\n",
              "      filter: drop-shadow(0px 1px 2px rgba(0, 0, 0, 0.3));\n",
              "      fill: #FFFFFF;\n",
              "    }\n",
              "  </style>\n",
              "\n",
              "    <script>\n",
              "      const buttonEl =\n",
              "        document.querySelector('#df-1736bf55-0c66-4cc8-b0e9-91a84402122b button.colab-df-convert');\n",
              "      buttonEl.style.display =\n",
              "        google.colab.kernel.accessAllowed ? 'block' : 'none';\n",
              "\n",
              "      async function convertToInteractive(key) {\n",
              "        const element = document.querySelector('#df-1736bf55-0c66-4cc8-b0e9-91a84402122b');\n",
              "        const dataTable =\n",
              "          await google.colab.kernel.invokeFunction('convertToInteractive',\n",
              "                                                    [key], {});\n",
              "        if (!dataTable) return;\n",
              "\n",
              "        const docLinkHtml = 'Like what you see? Visit the ' +\n",
              "          '<a target=\"_blank\" href=https://colab.research.google.com/notebooks/data_table.ipynb>data table notebook</a>'\n",
              "          + ' to learn more about interactive tables.';\n",
              "        element.innerHTML = '';\n",
              "        dataTable['output_type'] = 'display_data';\n",
              "        await google.colab.output.renderOutput(dataTable, element);\n",
              "        const docLink = document.createElement('div');\n",
              "        docLink.innerHTML = docLinkHtml;\n",
              "        element.appendChild(docLink);\n",
              "      }\n",
              "    </script>\n",
              "  </div>\n",
              "\n",
              "\n",
              "<div id=\"df-80f3639d-6275-409c-b51a-2c529244e726\">\n",
              "  <button class=\"colab-df-quickchart\" onclick=\"quickchart('df-80f3639d-6275-409c-b51a-2c529244e726')\"\n",
              "            title=\"Suggest charts\"\n",
              "            style=\"display:none;\">\n",
              "\n",
              "<svg xmlns=\"http://www.w3.org/2000/svg\" height=\"24px\"viewBox=\"0 0 24 24\"\n",
              "     width=\"24px\">\n",
              "    <g>\n",
              "        <path d=\"M19 3H5c-1.1 0-2 .9-2 2v14c0 1.1.9 2 2 2h14c1.1 0 2-.9 2-2V5c0-1.1-.9-2-2-2zM9 17H7v-7h2v7zm4 0h-2V7h2v10zm4 0h-2v-4h2v4z\"/>\n",
              "    </g>\n",
              "</svg>\n",
              "  </button>\n",
              "\n",
              "<style>\n",
              "  .colab-df-quickchart {\n",
              "      --bg-color: #E8F0FE;\n",
              "      --fill-color: #1967D2;\n",
              "      --hover-bg-color: #E2EBFA;\n",
              "      --hover-fill-color: #174EA6;\n",
              "      --disabled-fill-color: #AAA;\n",
              "      --disabled-bg-color: #DDD;\n",
              "  }\n",
              "\n",
              "  [theme=dark] .colab-df-quickchart {\n",
              "      --bg-color: #3B4455;\n",
              "      --fill-color: #D2E3FC;\n",
              "      --hover-bg-color: #434B5C;\n",
              "      --hover-fill-color: #FFFFFF;\n",
              "      --disabled-bg-color: #3B4455;\n",
              "      --disabled-fill-color: #666;\n",
              "  }\n",
              "\n",
              "  .colab-df-quickchart {\n",
              "    background-color: var(--bg-color);\n",
              "    border: none;\n",
              "    border-radius: 50%;\n",
              "    cursor: pointer;\n",
              "    display: none;\n",
              "    fill: var(--fill-color);\n",
              "    height: 32px;\n",
              "    padding: 0;\n",
              "    width: 32px;\n",
              "  }\n",
              "\n",
              "  .colab-df-quickchart:hover {\n",
              "    background-color: var(--hover-bg-color);\n",
              "    box-shadow: 0 1px 2px rgba(60, 64, 67, 0.3), 0 1px 3px 1px rgba(60, 64, 67, 0.15);\n",
              "    fill: var(--button-hover-fill-color);\n",
              "  }\n",
              "\n",
              "  .colab-df-quickchart-complete:disabled,\n",
              "  .colab-df-quickchart-complete:disabled:hover {\n",
              "    background-color: var(--disabled-bg-color);\n",
              "    fill: var(--disabled-fill-color);\n",
              "    box-shadow: none;\n",
              "  }\n",
              "\n",
              "  .colab-df-spinner {\n",
              "    border: 2px solid var(--fill-color);\n",
              "    border-color: transparent;\n",
              "    border-bottom-color: var(--fill-color);\n",
              "    animation:\n",
              "      spin 1s steps(1) infinite;\n",
              "  }\n",
              "\n",
              "  @keyframes spin {\n",
              "    0% {\n",
              "      border-color: transparent;\n",
              "      border-bottom-color: var(--fill-color);\n",
              "      border-left-color: var(--fill-color);\n",
              "    }\n",
              "    20% {\n",
              "      border-color: transparent;\n",
              "      border-left-color: var(--fill-color);\n",
              "      border-top-color: var(--fill-color);\n",
              "    }\n",
              "    30% {\n",
              "      border-color: transparent;\n",
              "      border-left-color: var(--fill-color);\n",
              "      border-top-color: var(--fill-color);\n",
              "      border-right-color: var(--fill-color);\n",
              "    }\n",
              "    40% {\n",
              "      border-color: transparent;\n",
              "      border-right-color: var(--fill-color);\n",
              "      border-top-color: var(--fill-color);\n",
              "    }\n",
              "    60% {\n",
              "      border-color: transparent;\n",
              "      border-right-color: var(--fill-color);\n",
              "    }\n",
              "    80% {\n",
              "      border-color: transparent;\n",
              "      border-right-color: var(--fill-color);\n",
              "      border-bottom-color: var(--fill-color);\n",
              "    }\n",
              "    90% {\n",
              "      border-color: transparent;\n",
              "      border-bottom-color: var(--fill-color);\n",
              "    }\n",
              "  }\n",
              "</style>\n",
              "\n",
              "  <script>\n",
              "    async function quickchart(key) {\n",
              "      const quickchartButtonEl =\n",
              "        document.querySelector('#' + key + ' button');\n",
              "      quickchartButtonEl.disabled = true;  // To prevent multiple clicks.\n",
              "      quickchartButtonEl.classList.add('colab-df-spinner');\n",
              "      try {\n",
              "        const charts = await google.colab.kernel.invokeFunction(\n",
              "            'suggestCharts', [key], {});\n",
              "      } catch (error) {\n",
              "        console.error('Error during call to suggestCharts:', error);\n",
              "      }\n",
              "      quickchartButtonEl.classList.remove('colab-df-spinner');\n",
              "      quickchartButtonEl.classList.add('colab-df-quickchart-complete');\n",
              "    }\n",
              "    (() => {\n",
              "      let quickchartButtonEl =\n",
              "        document.querySelector('#df-80f3639d-6275-409c-b51a-2c529244e726 button');\n",
              "      quickchartButtonEl.style.display =\n",
              "        google.colab.kernel.accessAllowed ? 'block' : 'none';\n",
              "    })();\n",
              "  </script>\n",
              "</div>\n",
              "\n",
              "  <div id=\"id_c0c693f5-2107-46ef-accb-592c49f0a01d\">\n",
              "    <style>\n",
              "      .colab-df-generate {\n",
              "        background-color: #E8F0FE;\n",
              "        border: none;\n",
              "        border-radius: 50%;\n",
              "        cursor: pointer;\n",
              "        display: none;\n",
              "        fill: #1967D2;\n",
              "        height: 32px;\n",
              "        padding: 0 0 0 0;\n",
              "        width: 32px;\n",
              "      }\n",
              "\n",
              "      .colab-df-generate:hover {\n",
              "        background-color: #E2EBFA;\n",
              "        box-shadow: 0px 1px 2px rgba(60, 64, 67, 0.3), 0px 1px 3px 1px rgba(60, 64, 67, 0.15);\n",
              "        fill: #174EA6;\n",
              "      }\n",
              "\n",
              "      [theme=dark] .colab-df-generate {\n",
              "        background-color: #3B4455;\n",
              "        fill: #D2E3FC;\n",
              "      }\n",
              "\n",
              "      [theme=dark] .colab-df-generate:hover {\n",
              "        background-color: #434B5C;\n",
              "        box-shadow: 0px 1px 3px 1px rgba(0, 0, 0, 0.15);\n",
              "        filter: drop-shadow(0px 1px 2px rgba(0, 0, 0, 0.3));\n",
              "        fill: #FFFFFF;\n",
              "      }\n",
              "    </style>\n",
              "    <button class=\"colab-df-generate\" onclick=\"generateWithVariable('data')\"\n",
              "            title=\"Generate code using this dataframe.\"\n",
              "            style=\"display:none;\">\n",
              "\n",
              "  <svg xmlns=\"http://www.w3.org/2000/svg\" height=\"24px\"viewBox=\"0 0 24 24\"\n",
              "       width=\"24px\">\n",
              "    <path d=\"M7,19H8.4L18.45,9,17,7.55,7,17.6ZM5,21V16.75L18.45,3.32a2,2,0,0,1,2.83,0l1.4,1.43a1.91,1.91,0,0,1,.58,1.4,1.91,1.91,0,0,1-.58,1.4L9.25,21ZM18.45,9,17,7.55Zm-12,3A5.31,5.31,0,0,0,4.9,8.1,5.31,5.31,0,0,0,1,6.5,5.31,5.31,0,0,0,4.9,4.9,5.31,5.31,0,0,0,6.5,1,5.31,5.31,0,0,0,8.1,4.9,5.31,5.31,0,0,0,12,6.5,5.46,5.46,0,0,0,6.5,12Z\"/>\n",
              "  </svg>\n",
              "    </button>\n",
              "    <script>\n",
              "      (() => {\n",
              "      const buttonEl =\n",
              "        document.querySelector('#id_c0c693f5-2107-46ef-accb-592c49f0a01d button.colab-df-generate');\n",
              "      buttonEl.style.display =\n",
              "        google.colab.kernel.accessAllowed ? 'block' : 'none';\n",
              "\n",
              "      buttonEl.onclick = () => {\n",
              "        google.colab.notebook.generateWithVariable('data');\n",
              "      }\n",
              "      })();\n",
              "    </script>\n",
              "  </div>\n",
              "\n",
              "    </div>\n",
              "  </div>\n"
            ]
          },
          "metadata": {},
          "execution_count": 8
        }
      ],
      "source": [
        "data"
      ]
    },
    {
      "cell_type": "markdown",
      "metadata": {
        "id": "zvFwz3OQS8nW"
      },
      "source": [
        "# EDA"
      ]
    },
    {
      "cell_type": "markdown",
      "metadata": {
        "id": "yNrnQb3iS-Z5"
      },
      "source": [
        "# 1) Distribution of Resale Prices"
      ]
    },
    {
      "cell_type": "code",
      "execution_count": 9,
      "metadata": {
        "colab": {
          "base_uri": "https://localhost:8080/",
          "height": 564
        },
        "id": "xvsESGvbKjjq",
        "outputId": "8cf43d9f-4631-4436-dae9-685537d8172b"
      },
      "outputs": [
        {
          "output_type": "display_data",
          "data": {
            "text/plain": [
              "<Figure size 1000x600 with 1 Axes>"
            ],
            "image/png": "[encoded data removed]"
          },
          "metadata": {}
        }
      ],
      "source": [
        "import matplotlib.pyplot as plt\n",
        "import seaborn as sns\n",
        "\n",
        "plt.figure(figsize=(10, 6))\n",
        "sns.histplot(data['resale_price'], bins=50, kde=True)\n",
        "plt.title('Distribution of Resale Prices')\n",
        "plt.xlabel('Resale Price')\n",
        "plt.ylabel('Frequency')\n",
        "plt.show()"
      ]
    },
    {
      "cell_type": "markdown",
      "source": [
        "# Observation\n",
        "Comparing the Distribution of Resale Prices with their frequency we can see that most of the resale prices were between 125000 and 350000 with an average frequency of around 65k listings"
      ],
      "metadata": {
        "id": "EIUFtlzdYEtE"
      }
    },
    {
      "cell_type": "markdown",
      "metadata": {
        "id": "rhz8sCN0TGw_"
      },
      "source": [
        "# 2) Correlation Heatmap on Numerical data"
      ]
    },
    {
      "cell_type": "code",
      "execution_count": 10,
      "metadata": {
        "colab": {
          "base_uri": "https://localhost:8080/",
          "height": 843
        },
        "id": "b5YsJlamKjnt",
        "outputId": "bc38d7c2-0974-485b-bde0-116d04d45ce1"
      },
      "outputs": [
        {
          "output_type": "display_data",
          "data": {
            "text/plain": [
              "<Figure size 1000x800 with 2 Axes>"
            ],
            "image/png": "[encoded data removed]"
          },
          "metadata": {}
        }
      ],
      "source": [
        "plt.figure(figsize=(10, 8))\n",
        "correlation_matrix = data.corr()\n",
        "sns.heatmap(correlation_matrix, annot=True, cmap='coolwarm', fmt=\".2f\")\n",
        "plt.title('Correlation Heatmap')\n",
        "plt.show()\n"
      ]
    },
    {
      "cell_type": "markdown",
      "source": [
        "# Observation\n",
        "\n",
        "From this correlation map, we can see\n",
        "\n",
        "1) resale_price vs year have positive correlation with 67%\n",
        "\n",
        "2) remaining_lease vs lease_commence_date have negative coreelation with 62%\n"
      ],
      "metadata": {
        "id": "sQHpmXkoYuAF"
      }
    },
    {
      "cell_type": "code",
      "source": [],
      "metadata": {
        "id": "lvufPuT4WA9A"
      },
      "execution_count": null,
      "outputs": []
    },
    {
      "cell_type": "markdown",
      "metadata": {
        "id": "Vek2iFq8TL1l"
      },
      "source": [
        "# 3) Distribution of Flats by Town"
      ]
    },
    {
      "cell_type": "code",
      "execution_count": 11,
      "metadata": {
        "colab": {
          "base_uri": "https://localhost:8080/",
          "height": 661
        },
        "id": "Jb1SWmwNKjrj",
        "outputId": "31c4df92-a59a-4cfb-c481-7a5501159109"
      },
      "outputs": [
        {
          "output_type": "display_data",
          "data": {
            "text/plain": [
              "<Figure size 1200x600 with 1 Axes>"
            ],
            "image/png": "[encoded data removed]"
          },
          "metadata": {}
        }
      ],
      "source": [
        "plt.figure(figsize=(12, 6))\n",
        "sns.countplot(x='town', data=data, order=data['town'].value_counts().index)\n",
        "plt.title('Distribution of Flats by Town')\n",
        "plt.xlabel('Town')\n",
        "plt.ylabel('Count')\n",
        "plt.xticks(rotation=45)\n",
        "plt.show()"
      ]
    },
    {
      "cell_type": "markdown",
      "source": [
        "# Observation\n",
        "\n",
        "While checking the Distribution of Flats by Town, we have nearly 80K lissting in the Town - Tampines followed by the Town - Yishun with nearly 70K listings"
      ],
      "metadata": {
        "id": "6eUqJRX1Zku9"
      }
    },
    {
      "cell_type": "code",
      "source": [],
      "metadata": {
        "id": "AJq8ompIZ_Lx"
      },
      "execution_count": 11,
      "outputs": []
    },
    {
      "cell_type": "markdown",
      "metadata": {
        "id": "zz2HSf4LTPz_"
      },
      "source": [
        "\n",
        "# 4) Resale Prices Over Years"
      ]
    },
    {
      "cell_type": "code",
      "execution_count": 12,
      "metadata": {
        "colab": {
          "base_uri": "https://localhost:8080/",
          "height": 564
        },
        "id": "2De2qve2Kjy3",
        "outputId": "779263ec-2455-4372-edbf-f4b129e00a2d"
      },
      "outputs": [
        {
          "output_type": "display_data",
          "data": {
            "text/plain": [
              "<Figure size 1200x600 with 1 Axes>"
            ],
            "image/png": "[encoded data removed]"
          },
          "metadata": {}
        }
      ],
      "source": [
        "plt.figure(figsize=(12, 6))\n",
        "sns.lineplot(x='year', y='resale_price', data=data)\n",
        "plt.title('Resale Prices Over Years')\n",
        "plt.xlabel('Year')\n",
        "plt.ylabel('Resale Price')\n",
        "plt.show()"
      ]
    },
    {
      "cell_type": "markdown",
      "source": [
        "# Observation\n",
        "\n",
        "While checking the resale_price over year we can see there was a gradual increase in the resale_price\n",
        "\n",
        "There was a drop in 1995 and it continued till 2009 then there was an increase till 2014\n",
        "\n",
        "Again there was a slight drop nad got increased from 2020"
      ],
      "metadata": {
        "id": "hPJneli9aBU_"
      }
    },
    {
      "cell_type": "code",
      "source": [],
      "metadata": {
        "id": "9eQ_m2RQ88YU"
      },
      "execution_count": null,
      "outputs": []
    },
    {
      "cell_type": "markdown",
      "metadata": {
        "id": "HbQEc4pvPRU6"
      },
      "source": [
        "# 5) Boxplot of Floor Area by Flat Type"
      ]
    },
    {
      "cell_type": "code",
      "execution_count": 13,
      "metadata": {
        "colab": {
          "base_uri": "https://localhost:8080/",
          "height": 564
        },
        "id": "Hcpyp2RcKj2b",
        "outputId": "820d0af1-2ca9-418d-ee2e-2d57e1311601"
      },
      "outputs": [
        {
          "output_type": "display_data",
          "data": {
            "text/plain": [
              "<Figure size 1200x600 with 1 Axes>"
            ],
            "image/png": "[encoded data removed]"
          },
          "metadata": {}
        }
      ],
      "source": [
        "plt.figure(figsize=(12, 6))\n",
        "sns.boxplot(x='flat_type', y='floor_area_sqm', data=data)\n",
        "plt.title('Boxplot of Floor Area by Flat Type')\n",
        "plt.xlabel('Flat Type')\n",
        "plt.ylabel('Floor Area (sqm)')\n",
        "plt.show()"
      ]
    },
    {
      "cell_type": "code",
      "source": [],
      "metadata": {
        "id": "nBJyR5S5dGeD"
      },
      "execution_count": 13,
      "outputs": []
    },
    {
      "cell_type": "code",
      "execution_count": 14,
      "metadata": {
        "colab": {
          "base_uri": "https://localhost:8080/"
        },
        "id": "tR1xh3I7Kj_7",
        "outputId": "be4e6cfd-86e2-4d9a-9949-96871bc4bcf3"
      },
      "outputs": [
        {
          "output_type": "stream",
          "name": "stdout",
          "text": [
            "<class 'pandas.core.frame.DataFrame'>\n",
            "RangeIndex: 916314 entries, 0 to 916313\n",
            "Data columns (total 9 columns):\n",
            " #   Column               Non-Null Count   Dtype  \n",
            "---  ------               --------------   -----  \n",
            " 0   town                 916314 non-null  object \n",
            " 1   flat_type            916314 non-null  object \n",
            " 2   storey_range         916314 non-null  object \n",
            " 3   floor_area_sqm       916314 non-null  float64\n",
            " 4   flat_model           916314 non-null  object \n",
            " 5   lease_commence_date  916314 non-null  int64  \n",
            " 6   resale_price         916314 non-null  float64\n",
            " 7   remaining_lease      916314 non-null  int64  \n",
            " 8   year                 916314 non-null  int64  \n",
            "dtypes: float64(2), int64(3), object(4)\n",
            "memory usage: 62.9+ MB\n"
          ]
        }
      ],
      "source": [
        "data.info()"
      ]
    },
    {
      "cell_type": "markdown",
      "metadata": {
        "id": "_tjH7y1WvMUk"
      },
      "source": [
        "# Extracting Numeric and Categoric Features"
      ]
    },
    {
      "cell_type": "code",
      "execution_count": 15,
      "metadata": {
        "id": "Y3lWvYxTKkDd"
      },
      "outputs": [],
      "source": [
        "categorical_features = data.select_dtypes(include='object')\n",
        "numerical_features = data.select_dtypes(exclude='object')\n",
        "\n"
      ]
    },
    {
      "cell_type": "markdown",
      "source": [
        "# Observation\n",
        "Found that there were multiple duplicated values in the categorical feature 'flat_model'\n",
        "\n",
        "hence combining it to a unique data\n"
      ],
      "metadata": {
        "id": "B2ZFtmwIEFF4"
      }
    },
    {
      "cell_type": "code",
      "source": [
        "# Convert to uppercase and combine duplicates\n",
        "for feature in categorical_features:\n",
        "    data[feature] = data[feature].str.upper()\n",
        "    data[feature] = data[feature].astype('category')  # Ensure the column remains categorical for memory efficiency\n",
        "    data[feature] = data[feature].cat.set_categories(data[feature].unique())\n",
        "\n",
        "data.head()"
      ],
      "metadata": {
        "id": "aWg4kxvaBgOP",
        "colab": {
          "base_uri": "https://localhost:8080/"
        },
        "outputId": "43ee081f-6173-4ef6-919a-f4dde0ebfabb"
      },
      "execution_count": 16,
      "outputs": [
        {
          "output_type": "stream",
          "name": "stdout",
          "text": [
            "              town  flat_type storey_range  floor_area_sqm      flat_model  \\\n",
            "0       ANG MO KIO     3 ROOM     07 TO 09            69.0        IMPROVED   \n",
            "1       ANG MO KIO     3 ROOM     04 TO 06            61.0        IMPROVED   \n",
            "2       ANG MO KIO     3 ROOM     07 TO 09            73.0  NEW GENERATION   \n",
            "3       ANG MO KIO     3 ROOM     07 TO 09            73.0  NEW GENERATION   \n",
            "4       ANG MO KIO     3 ROOM     07 TO 09            67.0  NEW GENERATION   \n",
            "...            ...        ...          ...             ...             ...   \n",
            "916309      YISHUN  EXECUTIVE     10 TO 12           142.0       APARTMENT   \n",
            "916310      YISHUN  EXECUTIVE     01 TO 03           142.0       APARTMENT   \n",
            "916311      YISHUN  EXECUTIVE     07 TO 09           146.0      MAISONETTE   \n",
            "916312      YISHUN  EXECUTIVE     04 TO 06           146.0      MAISONETTE   \n",
            "916313      YISHUN  EXECUTIVE     01 TO 03           145.0      MAISONETTE   \n",
            "\n",
            "        lease_commence_date  resale_price  remaining_lease  year  \n",
            "0                      1986      147000.0               14  2000  \n",
            "1                      1986      144000.0               14  2000  \n",
            "2                      1976      159000.0               24  2000  \n",
            "3                      1976      167000.0               24  2000  \n",
            "4                      1976      163000.0               24  2000  \n",
            "...                     ...           ...              ...   ...  \n",
            "916309                 1987      456000.0               12  1999  \n",
            "916310                 1988      408000.0               11  1999  \n",
            "916311                 1988      469000.0               11  1999  \n",
            "916312                 1988      440000.0               11  1999  \n",
            "916313                 1988      484000.0               11  1999  \n",
            "\n",
            "[916314 rows x 9 columns]\n"
          ]
        }
      ]
    },
    {
      "cell_type": "code",
      "execution_count": 17,
      "metadata": {
        "colab": {
          "base_uri": "https://localhost:8080/"
        },
        "id": "Z1QFI-sGbsQG",
        "outputId": "4fc5e7b1-0289-45eb-bdc4-573fb37351ed"
      },
      "outputs": [
        {
          "output_type": "execute_result",
          "data": {
            "text/plain": [
              "Index(['town', 'flat_type', 'storey_range', 'flat_model'], dtype='object')"
            ]
          },
          "metadata": {},
          "execution_count": 17
        }
      ],
      "source": [
        "categorical_features.columns"
      ]
    },
    {
      "cell_type": "code",
      "execution_count": 18,
      "metadata": {
        "colab": {
          "base_uri": "https://localhost:8080/"
        },
        "id": "1boHfUzLMo9h",
        "outputId": "58051202-f105-4bf1-ca34-78643f1ed094"
      },
      "outputs": [
        {
          "output_type": "execute_result",
          "data": {
            "text/plain": [
              "array(['ANG MO KIO', 'BEDOK', 'BISHAN', 'BUKIT BATOK', 'BUKIT MERAH',\n",
              "       'BUKIT PANJANG', 'BUKIT TIMAH', 'CENTRAL AREA', 'CHOA CHU KANG',\n",
              "       'CLEMENTI', 'GEYLANG', 'HOUGANG', 'JURONG EAST', 'JURONG WEST',\n",
              "       'KALLANG/WHAMPOA', 'MARINE PARADE', 'PASIR RIS', 'QUEENSTOWN',\n",
              "       'SENGKANG', 'SERANGOON', 'TAMPINES', 'TOA PAYOH', 'WOODLANDS',\n",
              "       'YISHUN', 'SEMBAWANG', 'PUNGGOL', 'LIM CHU KANG'], dtype=object)"
            ]
          },
          "metadata": {},
          "execution_count": 18
        }
      ],
      "source": [
        "categorical_features.flat_model.value_counts()"
      ]
    },
    {
      "cell_type": "code",
      "execution_count": 19,
      "metadata": {
        "id": "SBy-M2LeZJhF"
      },
      "outputs": [],
      "source": [
        "# Creating a copy of the DataFrame to avoid modifying the original data\n",
        "processed_data = data.copy()\n"
      ]
    },
    {
      "cell_type": "code",
      "execution_count": 20,
      "metadata": {
        "colab": {
          "base_uri": "https://localhost:8080/",
          "height": 112
        },
        "id": "Fo7O72JGb5RO",
        "outputId": "f592095b-84b9-48a2-e52f-eae311271759"
      },
      "outputs": [
        {
          "output_type": "execute_result",
          "data": {
            "text/plain": [
              "         town flat_type storey_range  floor_area_sqm flat_model  \\\n",
              "0  ANG MO KIO    3 ROOM     07 TO 09            69.0   IMPROVED   \n",
              "1  ANG MO KIO    3 ROOM     04 TO 06            61.0   IMPROVED   \n",
              "\n",
              "   lease_commence_date  resale_price  remaining_lease  year  \n",
              "0                 1986      147000.0               14  2000  \n",
              "1                 1986      144000.0               14  2000  "
            ],
            "text/html": [
              "\n",
              "  <div id=\"df-4412a012-a4ec-4c83-acba-0067d6e5aad4\" class=\"colab-df-container\">\n",
              "    <div>\n",
              "<style scoped>\n",
              "    .dataframe tbody tr th:only-of-type {\n",
              "        vertical-align: middle;\n",
              "    }\n",
              "\n",
              "    .dataframe tbody tr th {\n",
              "        vertical-align: top;\n",
              "    }\n",
              "\n",
              "    .dataframe thead th {\n",
              "        text-align: right;\n",
              "    }\n",
              "</style>\n",
              "<table border=\"1\" class=\"dataframe\">\n",
              "  <thead>\n",
              "    <tr style=\"text-align: right;\">\n",
              "      <th></th>\n",
              "      <th>town</th>\n",
              "      <th>flat_type</th>\n",
              "      <th>storey_range</th>\n",
              "      <th>floor_area_sqm</th>\n",
              "      <th>flat_model</th>\n",
              "      <th>lease_commence_date</th>\n",
              "      <th>resale_price</th>\n",
              "      <th>remaining_lease</th>\n",
              "      <th>year</th>\n",
              "    </tr>\n",
              "  </thead>\n",
              "  <tbody>\n",
              "    <tr>\n",
              "      <th>0</th>\n",
              "      <td>ANG MO KIO</td>\n",
              "      <td>3 ROOM</td>\n",
              "      <td>07 TO 09</td>\n",
              "      <td>69.0</td>\n",
              "      <td>IMPROVED</td>\n",
              "      <td>1986</td>\n",
              "      <td>147000.0</td>\n",
              "      <td>14</td>\n",
              "      <td>2000</td>\n",
              "    </tr>\n",
              "    <tr>\n",
              "      <th>1</th>\n",
              "      <td>ANG MO KIO</td>\n",
              "      <td>3 ROOM</td>\n",
              "      <td>04 TO 06</td>\n",
              "      <td>61.0</td>\n",
              "      <td>IMPROVED</td>\n",
              "      <td>1986</td>\n",
              "      <td>144000.0</td>\n",
              "      <td>14</td>\n",
              "      <td>2000</td>\n",
              "    </tr>\n",
              "  </tbody>\n",
              "</table>\n",
              "</div>\n",
              "    <div class=\"colab-df-buttons\">\n",
              "\n",
              "  <div class=\"colab-df-container\">\n",
              "    <button class=\"colab-df-convert\" onclick=\"convertToInteractive('df-4412a012-a4ec-4c83-acba-0067d6e5aad4')\"\n",
              "            title=\"Convert this dataframe to an interactive table.\"\n",
              "            style=\"display:none;\">\n",
              "\n",
              "  <svg xmlns=\"http://www.w3.org/2000/svg\" height=\"24px\" viewBox=\"0 -960 960 960\">\n",
              "    <path d=\"M120-120v-720h720v720H120Zm60-500h600v-160H180v160Zm220 220h160v-160H400v160Zm0 220h160v-160H400v160ZM180-400h160v-160H180v160Zm440 0h160v-160H620v160ZM180-180h160v-160H180v160Zm440 0h160v-160H620v160Z\"/>\n",
              "  </svg>\n",
              "    </button>\n",
              "\n",
              "  <style>\n",
              "    .colab-df-container {\n",
              "      display:flex;\n",
              "      gap: 12px;\n",
              "    }\n",
              "\n",
              "    .colab-df-convert {\n",
              "      background-color: #E8F0FE;\n",
              "      border: none;\n",
              "      border-radius: 50%;\n",
              "      cursor: pointer;\n",
              "      display: none;\n",
              "      fill: #1967D2;\n",
              "      height: 32px;\n",
              "      padding: 0 0 0 0;\n",
              "      width: 32px;\n",
              "    }\n",
              "\n",
              "    .colab-df-convert:hover {\n",
              "      background-color: #E2EBFA;\n",
              "      box-shadow: 0px 1px 2px rgba(60, 64, 67, 0.3), 0px 1px 3px 1px rgba(60, 64, 67, 0.15);\n",
              "      fill: #174EA6;\n",
              "    }\n",
              "\n",
              "    .colab-df-buttons div {\n",
              "      margin-bottom: 4px;\n",
              "    }\n",
              "\n",
              "    [theme=dark] .colab-df-convert {\n",
              "      background-color: #3B4455;\n",
              "      fill: #D2E3FC;\n",
              "    }\n",
              "\n",
              "    [theme=dark] .colab-df-convert:hover {\n",
              "      background-color: #434B5C;\n",
              "      box-shadow: 0px 1px 3px 1px rgba(0, 0, 0, 0.15);\n",
              "      filter: drop-shadow(0px 1px 2px rgba(0, 0, 0, 0.3));\n",
              "      fill: #FFFFFF;\n",
              "    }\n",
              "  </style>\n",
              "\n",
              "    <script>\n",
              "      const buttonEl =\n",
              "        document.querySelector('#df-4412a012-a4ec-4c83-acba-0067d6e5aad4 button.colab-df-convert');\n",
              "      buttonEl.style.display =\n",
              "        google.colab.kernel.accessAllowed ? 'block' : 'none';\n",
              "\n",
              "      async function convertToInteractive(key) {\n",
              "        const element = document.querySelector('#df-4412a012-a4ec-4c83-acba-0067d6e5aad4');\n",
              "        const dataTable =\n",
              "          await google.colab.kernel.invokeFunction('convertToInteractive',\n",
              "                                                    [key], {});\n",
              "        if (!dataTable) return;\n",
              "\n",
              "        const docLinkHtml = 'Like what you see? Visit the ' +\n",
              "          '<a target=\"_blank\" href=https://colab.research.google.com/notebooks/data_table.ipynb>data table notebook</a>'\n",
              "          + ' to learn more about interactive tables.';\n",
              "        element.innerHTML = '';\n",
              "        dataTable['output_type'] = 'display_data';\n",
              "        await google.colab.output.renderOutput(dataTable, element);\n",
              "        const docLink = document.createElement('div');\n",
              "        docLink.innerHTML = docLinkHtml;\n",
              "        element.appendChild(docLink);\n",
              "      }\n",
              "    </script>\n",
              "  </div>\n",
              "\n",
              "\n",
              "<div id=\"df-23e8f213-c117-493b-bf41-8a371d70cbe0\">\n",
              "  <button class=\"colab-df-quickchart\" onclick=\"quickchart('df-23e8f213-c117-493b-bf41-8a371d70cbe0')\"\n",
              "            title=\"Suggest charts\"\n",
              "            style=\"display:none;\">\n",
              "\n",
              "<svg xmlns=\"http://www.w3.org/2000/svg\" height=\"24px\"viewBox=\"0 0 24 24\"\n",
              "     width=\"24px\">\n",
              "    <g>\n",
              "        <path d=\"M19 3H5c-1.1 0-2 .9-2 2v14c0 1.1.9 2 2 2h14c1.1 0 2-.9 2-2V5c0-1.1-.9-2-2-2zM9 17H7v-7h2v7zm4 0h-2V7h2v10zm4 0h-2v-4h2v4z\"/>\n",
              "    </g>\n",
              "</svg>\n",
              "  </button>\n",
              "\n",
              "<style>\n",
              "  .colab-df-quickchart {\n",
              "      --bg-color: #E8F0FE;\n",
              "      --fill-color: #1967D2;\n",
              "      --hover-bg-color: #E2EBFA;\n",
              "      --hover-fill-color: #174EA6;\n",
              "      --disabled-fill-color: #AAA;\n",
              "      --disabled-bg-color: #DDD;\n",
              "  }\n",
              "\n",
              "  [theme=dark] .colab-df-quickchart {\n",
              "      --bg-color: #3B4455;\n",
              "      --fill-color: #D2E3FC;\n",
              "      --hover-bg-color: #434B5C;\n",
              "      --hover-fill-color: #FFFFFF;\n",
              "      --disabled-bg-color: #3B4455;\n",
              "      --disabled-fill-color: #666;\n",
              "  }\n",
              "\n",
              "  .colab-df-quickchart {\n",
              "    background-color: var(--bg-color);\n",
              "    border: none;\n",
              "    border-radius: 50%;\n",
              "    cursor: pointer;\n",
              "    display: none;\n",
              "    fill: var(--fill-color);\n",
              "    height: 32px;\n",
              "    padding: 0;\n",
              "    width: 32px;\n",
              "  }\n",
              "\n",
              "  .colab-df-quickchart:hover {\n",
              "    background-color: var(--hover-bg-color);\n",
              "    box-shadow: 0 1px 2px rgba(60, 64, 67, 0.3), 0 1px 3px 1px rgba(60, 64, 67, 0.15);\n",
              "    fill: var(--button-hover-fill-color);\n",
              "  }\n",
              "\n",
              "  .colab-df-quickchart-complete:disabled,\n",
              "  .colab-df-quickchart-complete:disabled:hover {\n",
              "    background-color: var(--disabled-bg-color);\n",
              "    fill: var(--disabled-fill-color);\n",
              "    box-shadow: none;\n",
              "  }\n",
              "\n",
              "  .colab-df-spinner {\n",
              "    border: 2px solid var(--fill-color);\n",
              "    border-color: transparent;\n",
              "    border-bottom-color: var(--fill-color);\n",
              "    animation:\n",
              "      spin 1s steps(1) infinite;\n",
              "  }\n",
              "\n",
              "  @keyframes spin {\n",
              "    0% {\n",
              "      border-color: transparent;\n",
              "      border-bottom-color: var(--fill-color);\n",
              "      border-left-color: var(--fill-color);\n",
              "    }\n",
              "    20% {\n",
              "      border-color: transparent;\n",
              "      border-left-color: var(--fill-color);\n",
              "      border-top-color: var(--fill-color);\n",
              "    }\n",
              "    30% {\n",
              "      border-color: transparent;\n",
              "      border-left-color: var(--fill-color);\n",
              "      border-top-color: var(--fill-color);\n",
              "      border-right-color: var(--fill-color);\n",
              "    }\n",
              "    40% {\n",
              "      border-color: transparent;\n",
              "      border-right-color: var(--fill-color);\n",
              "      border-top-color: var(--fill-color);\n",
              "    }\n",
              "    60% {\n",
              "      border-color: transparent;\n",
              "      border-right-color: var(--fill-color);\n",
              "    }\n",
              "    80% {\n",
              "      border-color: transparent;\n",
              "      border-right-color: var(--fill-color);\n",
              "      border-bottom-color: var(--fill-color);\n",
              "    }\n",
              "    90% {\n",
              "      border-color: transparent;\n",
              "      border-bottom-color: var(--fill-color);\n",
              "    }\n",
              "  }\n",
              "</style>\n",
              "\n",
              "  <script>\n",
              "    async function quickchart(key) {\n",
              "      const quickchartButtonEl =\n",
              "        document.querySelector('#' + key + ' button');\n",
              "      quickchartButtonEl.disabled = true;  // To prevent multiple clicks.\n",
              "      quickchartButtonEl.classList.add('colab-df-spinner');\n",
              "      try {\n",
              "        const charts = await google.colab.kernel.invokeFunction(\n",
              "            'suggestCharts', [key], {});\n",
              "      } catch (error) {\n",
              "        console.error('Error during call to suggestCharts:', error);\n",
              "      }\n",
              "      quickchartButtonEl.classList.remove('colab-df-spinner');\n",
              "      quickchartButtonEl.classList.add('colab-df-quickchart-complete');\n",
              "    }\n",
              "    (() => {\n",
              "      let quickchartButtonEl =\n",
              "        document.querySelector('#df-23e8f213-c117-493b-bf41-8a371d70cbe0 button');\n",
              "      quickchartButtonEl.style.display =\n",
              "        google.colab.kernel.accessAllowed ? 'block' : 'none';\n",
              "    })();\n",
              "  </script>\n",
              "</div>\n",
              "\n",
              "    </div>\n",
              "  </div>\n"
            ]
          },
          "metadata": {},
          "execution_count": 20
        }
      ],
      "source": [
        "processed_data.head(2)"
      ]
    },
    {
      "cell_type": "markdown",
      "source": [
        "from sklearn.preprocessing import LabelEncoder\n",
        "\n",
        "# Convert categorical variables to numerical using Label Encoding\n",
        "label_encoder = LabelEncoder()\n",
        "\n",
        "for col in categorical_features:\n",
        "    processed_data[col] = label_encoder.fit_transform(processed_data[col])\n",
        "    processed_data[col]\n",
        "\n",
        "# Now 'processed_data' contains encoded categorical features\n",
        "\n",
        "\n",
        "# Display the first few rows of the processed data\n",
        "processed_data.head()\n"
      ],
      "metadata": {
        "id": "Qj5g2riMRisv"
      }
    },
    {
      "cell_type": "markdown",
      "source": [
        "# LabelEncoding the Categorical feature"
      ],
      "metadata": {
        "id": "c9wDC7f_VOIf"
      }
    },
    {
      "cell_type": "code",
      "source": [
        "from sklearn.preprocessing import LabelEncoder\n",
        "\n",
        "# Your categorical features\n",
        "categorical_features = ['town', 'flat_type', 'storey_range', 'flat_model']\n",
        "\n",
        "# Create a dictionary to store label encodings\n",
        "label_encodings = {}\n",
        "\n",
        "# Loop through each categorical feature and perform label encoding\n",
        "for feature in categorical_features:\n",
        "    le = LabelEncoder()\n",
        "    # Fit and transform the feature, and store the result in the DataFrame\n",
        "    processed_data[feature] = le.fit_transform(processed_data[feature])\n",
        "\n",
        "    # Store the label encoding in the dictionary\n",
        "    label_encodings[feature] = dict(zip(le.classes_, le.transform(le.classes_)))\n",
        "\n",
        "# Print the label encodings\n",
        "for feature, encoding in label_encodings.items():\n",
        "    print(f\"{feature}:  {encoding}\")\n",
        "\n",
        "# Output\n",
        "# town:  {'ANG MO KIO': 0, 'BEDOK': 1, 'BISHAN': 2, 'BUKIT BATOK': 3, 'BUKIT MERAH': 4, 'BUKIT PANJANG': 5, 'BUKIT TIMAH': 6, 'CENTRAL AREA': 7, 'CHOA CHU KANG': 8, 'CLEMENTI': 9, 'GEYLANG': 10, 'HOUGANG': 11, 'JURONG EAST': 12, 'JURONG WEST': 13, 'KALLANG/WHAMPOA': 14, 'LIM CHU KANG': 15, 'MARINE PARADE': 16, 'PASIR RIS': 17, 'PUNGGOL': 18, 'QUEENSTOWN': 19, 'SEMBAWANG': 20, 'SENGKANG': 21, 'SERANGOON': 22, 'TAMPINES': 23, 'TOA PAYOH': 24, 'WOODLANDS': 25, 'YISHUN': 26}\n",
        "\n",
        "# flat_type:  {'1 ROOM': 0, '2 ROOM': 1, '3 ROOM': 2, '4 ROOM': 3, '5 ROOM': 4, 'EXECUTIVE': 5, 'MULTI GENERATION': 6, 'MULTI-GENERATION': 7}\n",
        "\n",
        "# storey_range:  {'01 TO 03': 0, '01 TO 05': 1, '04 TO 06': 2, '06 TO 10': 3, '07 TO 09': 4, '10 TO 12': 5, '11 TO 15': 6, '13 TO 15': 7, '16 TO 18': 8, '16 TO 20': 9, '19 TO 21': 10, '21 TO 25': 11, '22 TO 24': 12, '25 TO 27': 13, '26 TO 30': 14, '28 TO 30': 15, '31 TO 33': 16, '31 TO 35': 17, '34 TO 36': 18, '36 TO 40': 19, '37 TO 39': 20, '40 TO 42': 21, '43 TO 45': 22, '46 TO 48': 23, '49 TO 51': 24}\n",
        "\n",
        "# flat_model:  {'2-ROOM': 0, '3GEN': 1, 'ADJOINED FLAT': 2, 'APARTMENT': 3, 'DBSS': 4, 'IMPROVED': 5, 'IMPROVED-MAISONETTE': 6, 'MAISONETTE': 7, 'MODEL A': 8, 'MODEL A-MAISONETTE': 9, 'MODEL A2': 10, 'MULTI GENERATION': 11, 'NEW GENERATION': 12, 'PREMIUM APARTMENT': 13, 'PREMIUM APARTMENT LOFT': 14, 'PREMIUM MAISONETTE': 15, 'SIMPLIFIED': 16, 'STANDARD': 17, 'TERRACE': 18, 'TYPE S1': 19, 'TYPE S2': 20}"
      ],
      "metadata": {
        "id": "S5wgrRUrC6O5"
      },
      "execution_count": null,
      "outputs": []
    },
    {
      "cell_type": "markdown",
      "source": [],
      "metadata": {
        "id": "tzfsJMVvC6IP"
      }
    },
    {
      "cell_type": "code",
      "execution_count": 22,
      "metadata": {
        "colab": {
          "base_uri": "https://localhost:8080/",
          "height": 843
        },
        "id": "qdCiSl8SUhyM",
        "outputId": "d9fd3bf3-3203-44d2-beb6-101b0c4f2e81"
      },
      "outputs": [
        {
          "output_type": "display_data",
          "data": {
            "text/plain": [
              "<Figure size 1000x800 with 2 Axes>"
            ],
            "image/png": "[encoded data removed]"
          },
          "metadata": {}
        }
      ],
      "source": [
        "plt.figure(figsize=(10, 8))\n",
        "correlation_matrix = processed_data.corr()\n",
        "sns.heatmap(correlation_matrix, annot=True, cmap='coolwarm', fmt=\".2f\")\n",
        "plt.title('Correlation Heatmap')\n",
        "plt.show()"
      ]
    },
    {
      "cell_type": "code",
      "execution_count": 23,
      "metadata": {
        "id": "pvTfv7M3PvwG"
      },
      "outputs": [],
      "source": [
        "import pickle\n",
        "with open('label_encoders.pkl', 'wb') as encoders_file:\n",
        "    pickle.dump(processed_data, encoders_file)\n",
        "\n",
        "# with open('label_encoders.pkl', 'rb') as encoders_file:\n",
        "#   label_encoders = pickle.load(encoders_file)"
      ]
    },
    {
      "cell_type": "markdown",
      "metadata": {
        "id": "PXtgZL68KkG9"
      },
      "source": [
        "# Model Training & Evaluation"
      ]
    },
    {
      "cell_type": "code",
      "execution_count": 24,
      "metadata": {
        "colab": {
          "base_uri": "https://localhost:8080/",
          "height": 424
        },
        "id": "K_-84n_sdTJO",
        "outputId": "df0eee10-68a5-4bab-b3a9-b1ce336da378"
      },
      "outputs": [
        {
          "output_type": "execute_result",
          "data": {
            "text/plain": [
              "        town  flat_type  storey_range  floor_area_sqm  flat_model  \\\n",
              "0          0          2             4            69.0           5   \n",
              "1          0          2             2            61.0           5   \n",
              "2          0          2             4            73.0          12   \n",
              "3          0          2             4            73.0          12   \n",
              "4          0          2             4            67.0          12   \n",
              "...      ...        ...           ...             ...         ...   \n",
              "916309    26          5             5           142.0           3   \n",
              "916310    26          5             0           142.0           3   \n",
              "916311    26          5             4           146.0           7   \n",
              "916312    26          5             2           146.0           7   \n",
              "916313    26          5             0           145.0           7   \n",
              "\n",
              "        lease_commence_date  resale_price  remaining_lease  year  \n",
              "0                      1986      147000.0               14  2000  \n",
              "1                      1986      144000.0               14  2000  \n",
              "2                      1976      159000.0               24  2000  \n",
              "3                      1976      167000.0               24  2000  \n",
              "4                      1976      163000.0               24  2000  \n",
              "...                     ...           ...              ...   ...  \n",
              "916309                 1987      456000.0               12  1999  \n",
              "916310                 1988      408000.0               11  1999  \n",
              "916311                 1988      469000.0               11  1999  \n",
              "916312                 1988      440000.0               11  1999  \n",
              "916313                 1988      484000.0               11  1999  \n",
              "\n",
              "[916314 rows x 9 columns]"
            ],
            "text/html": [
              "\n",
              "  <div id=\"df-6bd81173-7b34-4065-a305-7db37f3943d8\" class=\"colab-df-container\">\n",
              "    <div>\n",
              "<style scoped>\n",
              "    .dataframe tbody tr th:only-of-type {\n",
              "        vertical-align: middle;\n",
              "    }\n",
              "\n",
              "    .dataframe tbody tr th {\n",
              "        vertical-align: top;\n",
              "    }\n",
              "\n",
              "    .dataframe thead th {\n",
              "        text-align: right;\n",
              "    }\n",
              "</style>\n",
              "<table border=\"1\" class=\"dataframe\">\n",
              "  <thead>\n",
              "    <tr style=\"text-align: right;\">\n",
              "      <th></th>\n",
              "      <th>town</th>\n",
              "      <th>flat_type</th>\n",
              "      <th>storey_range</th>\n",
              "      <th>floor_area_sqm</th>\n",
              "      <th>flat_model</th>\n",
              "      <th>lease_commence_date</th>\n",
              "      <th>resale_price</th>\n",
              "      <th>remaining_lease</th>\n",
              "      <th>year</th>\n",
              "    </tr>\n",
              "  </thead>\n",
              "  <tbody>\n",
              "    <tr>\n",
              "      <th>0</th>\n",
              "      <td>0</td>\n",
              "      <td>2</td>\n",
              "      <td>4</td>\n",
              "      <td>69.0</td>\n",
              "      <td>5</td>\n",
              "      <td>1986</td>\n",
              "      <td>147000.0</td>\n",
              "      <td>14</td>\n",
              "      <td>2000</td>\n",
              "    </tr>\n",
              "    <tr>\n",
              "      <th>1</th>\n",
              "      <td>0</td>\n",
              "      <td>2</td>\n",
              "      <td>2</td>\n",
              "      <td>61.0</td>\n",
              "      <td>5</td>\n",
              "      <td>1986</td>\n",
              "      <td>144000.0</td>\n",
              "      <td>14</td>\n",
              "      <td>2000</td>\n",
              "    </tr>\n",
              "    <tr>\n",
              "      <th>2</th>\n",
              "      <td>0</td>\n",
              "      <td>2</td>\n",
              "      <td>4</td>\n",
              "      <td>73.0</td>\n",
              "      <td>12</td>\n",
              "      <td>1976</td>\n",
              "      <td>159000.0</td>\n",
              "      <td>24</td>\n",
              "      <td>2000</td>\n",
              "    </tr>\n",
              "    <tr>\n",
              "      <th>3</th>\n",
              "      <td>0</td>\n",
              "      <td>2</td>\n",
              "      <td>4</td>\n",
              "      <td>73.0</td>\n",
              "      <td>12</td>\n",
              "      <td>1976</td>\n",
              "      <td>167000.0</td>\n",
              "      <td>24</td>\n",
              "      <td>2000</td>\n",
              "    </tr>\n",
              "    <tr>\n",
              "      <th>4</th>\n",
              "      <td>0</td>\n",
              "      <td>2</td>\n",
              "      <td>4</td>\n",
              "      <td>67.0</td>\n",
              "      <td>12</td>\n",
              "      <td>1976</td>\n",
              "      <td>163000.0</td>\n",
              "      <td>24</td>\n",
              "      <td>2000</td>\n",
              "    </tr>\n",
              "    <tr>\n",
              "      <th>...</th>\n",
              "      <td>...</td>\n",
              "      <td>...</td>\n",
              "      <td>...</td>\n",
              "      <td>...</td>\n",
              "      <td>...</td>\n",
              "      <td>...</td>\n",
              "      <td>...</td>\n",
              "      <td>...</td>\n",
              "      <td>...</td>\n",
              "    </tr>\n",
              "    <tr>\n",
              "      <th>916309</th>\n",
              "      <td>26</td>\n",
              "      <td>5</td>\n",
              "      <td>5</td>\n",
              "      <td>142.0</td>\n",
              "      <td>3</td>\n",
              "      <td>1987</td>\n",
              "      <td>456000.0</td>\n",
              "      <td>12</td>\n",
              "      <td>1999</td>\n",
              "    </tr>\n",
              "    <tr>\n",
              "      <th>916310</th>\n",
              "      <td>26</td>\n",
              "      <td>5</td>\n",
              "      <td>0</td>\n",
              "      <td>142.0</td>\n",
              "      <td>3</td>\n",
              "      <td>1988</td>\n",
              "      <td>408000.0</td>\n",
              "      <td>11</td>\n",
              "      <td>1999</td>\n",
              "    </tr>\n",
              "    <tr>\n",
              "      <th>916311</th>\n",
              "      <td>26</td>\n",
              "      <td>5</td>\n",
              "      <td>4</td>\n",
              "      <td>146.0</td>\n",
              "      <td>7</td>\n",
              "      <td>1988</td>\n",
              "      <td>469000.0</td>\n",
              "      <td>11</td>\n",
              "      <td>1999</td>\n",
              "    </tr>\n",
              "    <tr>\n",
              "      <th>916312</th>\n",
              "      <td>26</td>\n",
              "      <td>5</td>\n",
              "      <td>2</td>\n",
              "      <td>146.0</td>\n",
              "      <td>7</td>\n",
              "      <td>1988</td>\n",
              "      <td>440000.0</td>\n",
              "      <td>11</td>\n",
              "      <td>1999</td>\n",
              "    </tr>\n",
              "    <tr>\n",
              "      <th>916313</th>\n",
              "      <td>26</td>\n",
              "      <td>5</td>\n",
              "      <td>0</td>\n",
              "      <td>145.0</td>\n",
              "      <td>7</td>\n",
              "      <td>1988</td>\n",
              "      <td>484000.0</td>\n",
              "      <td>11</td>\n",
              "      <td>1999</td>\n",
              "    </tr>\n",
              "  </tbody>\n",
              "</table>\n",
              "<p>916314 rows × 9 columns</p>\n",
              "</div>\n",
              "    <div class=\"colab-df-buttons\">\n",
              "\n",
              "  <div class=\"colab-df-container\">\n",
              "    <button class=\"colab-df-convert\" onclick=\"convertToInteractive('df-6bd81173-7b34-4065-a305-7db37f3943d8')\"\n",
              "            title=\"Convert this dataframe to an interactive table.\"\n",
              "            style=\"display:none;\">\n",
              "\n",
              "  <svg xmlns=\"http://www.w3.org/2000/svg\" height=\"24px\" viewBox=\"0 -960 960 960\">\n",
              "    <path d=\"M120-120v-720h720v720H120Zm60-500h600v-160H180v160Zm220 220h160v-160H400v160Zm0 220h160v-160H400v160ZM180-400h160v-160H180v160Zm440 0h160v-160H620v160ZM180-180h160v-160H180v160Zm440 0h160v-160H620v160Z\"/>\n",
              "  </svg>\n",
              "    </button>\n",
              "\n",
              "  <style>\n",
              "    .colab-df-container {\n",
              "      display:flex;\n",
              "      gap: 12px;\n",
              "    }\n",
              "\n",
              "    .colab-df-convert {\n",
              "      background-color: #E8F0FE;\n",
              "      border: none;\n",
              "      border-radius: 50%;\n",
              "      cursor: pointer;\n",
              "      display: none;\n",
              "      fill: #1967D2;\n",
              "      height: 32px;\n",
              "      padding: 0 0 0 0;\n",
              "      width: 32px;\n",
              "    }\n",
              "\n",
              "    .colab-df-convert:hover {\n",
              "      background-color: #E2EBFA;\n",
              "      box-shadow: 0px 1px 2px rgba(60, 64, 67, 0.3), 0px 1px 3px 1px rgba(60, 64, 67, 0.15);\n",
              "      fill: #174EA6;\n",
              "    }\n",
              "\n",
              "    .colab-df-buttons div {\n",
              "      margin-bottom: 4px;\n",
              "    }\n",
              "\n",
              "    [theme=dark] .colab-df-convert {\n",
              "      background-color: #3B4455;\n",
              "      fill: #D2E3FC;\n",
              "    }\n",
              "\n",
              "    [theme=dark] .colab-df-convert:hover {\n",
              "      background-color: #434B5C;\n",
              "      box-shadow: 0px 1px 3px 1px rgba(0, 0, 0, 0.15);\n",
              "      filter: drop-shadow(0px 1px 2px rgba(0, 0, 0, 0.3));\n",
              "      fill: #FFFFFF;\n",
              "    }\n",
              "  </style>\n",
              "\n",
              "    <script>\n",
              "      const buttonEl =\n",
              "        document.querySelector('#df-6bd81173-7b34-4065-a305-7db37f3943d8 button.colab-df-convert');\n",
              "      buttonEl.style.display =\n",
              "        google.colab.kernel.accessAllowed ? 'block' : 'none';\n",
              "\n",
              "      async function convertToInteractive(key) {\n",
              "        const element = document.querySelector('#df-6bd81173-7b34-4065-a305-7db37f3943d8');\n",
              "        const dataTable =\n",
              "          await google.colab.kernel.invokeFunction('convertToInteractive',\n",
              "                                                    [key], {});\n",
              "        if (!dataTable) return;\n",
              "\n",
              "        const docLinkHtml = 'Like what you see? Visit the ' +\n",
              "          '<a target=\"_blank\" href=https://colab.research.google.com/notebooks/data_table.ipynb>data table notebook</a>'\n",
              "          + ' to learn more about interactive tables.';\n",
              "        element.innerHTML = '';\n",
              "        dataTable['output_type'] = 'display_data';\n",
              "        await google.colab.output.renderOutput(dataTable, element);\n",
              "        const docLink = document.createElement('div');\n",
              "        docLink.innerHTML = docLinkHtml;\n",
              "        element.appendChild(docLink);\n",
              "      }\n",
              "    </script>\n",
              "  </div>\n",
              "\n",
              "\n",
              "<div id=\"df-9ca33d09-fa0b-4b36-8212-6cffb51b5091\">\n",
              "  <button class=\"colab-df-quickchart\" onclick=\"quickchart('df-9ca33d09-fa0b-4b36-8212-6cffb51b5091')\"\n",
              "            title=\"Suggest charts\"\n",
              "            style=\"display:none;\">\n",
              "\n",
              "<svg xmlns=\"http://www.w3.org/2000/svg\" height=\"24px\"viewBox=\"0 0 24 24\"\n",
              "     width=\"24px\">\n",
              "    <g>\n",
              "        <path d=\"M19 3H5c-1.1 0-2 .9-2 2v14c0 1.1.9 2 2 2h14c1.1 0 2-.9 2-2V5c0-1.1-.9-2-2-2zM9 17H7v-7h2v7zm4 0h-2V7h2v10zm4 0h-2v-4h2v4z\"/>\n",
              "    </g>\n",
              "</svg>\n",
              "  </button>\n",
              "\n",
              "<style>\n",
              "  .colab-df-quickchart {\n",
              "      --bg-color: #E8F0FE;\n",
              "      --fill-color: #1967D2;\n",
              "      --hover-bg-color: #E2EBFA;\n",
              "      --hover-fill-color: #174EA6;\n",
              "      --disabled-fill-color: #AAA;\n",
              "      --disabled-bg-color: #DDD;\n",
              "  }\n",
              "\n",
              "  [theme=dark] .colab-df-quickchart {\n",
              "      --bg-color: #3B4455;\n",
              "      --fill-color: #D2E3FC;\n",
              "      --hover-bg-color: #434B5C;\n",
              "      --hover-fill-color: #FFFFFF;\n",
              "      --disabled-bg-color: #3B4455;\n",
              "      --disabled-fill-color: #666;\n",
              "  }\n",
              "\n",
              "  .colab-df-quickchart {\n",
              "    background-color: var(--bg-color);\n",
              "    border: none;\n",
              "    border-radius: 50%;\n",
              "    cursor: pointer;\n",
              "    display: none;\n",
              "    fill: var(--fill-color);\n",
              "    height: 32px;\n",
              "    padding: 0;\n",
              "    width: 32px;\n",
              "  }\n",
              "\n",
              "  .colab-df-quickchart:hover {\n",
              "    background-color: var(--hover-bg-color);\n",
              "    box-shadow: 0 1px 2px rgba(60, 64, 67, 0.3), 0 1px 3px 1px rgba(60, 64, 67, 0.15);\n",
              "    fill: var(--button-hover-fill-color);\n",
              "  }\n",
              "\n",
              "  .colab-df-quickchart-complete:disabled,\n",
              "  .colab-df-quickchart-complete:disabled:hover {\n",
              "    background-color: var(--disabled-bg-color);\n",
              "    fill: var(--disabled-fill-color);\n",
              "    box-shadow: none;\n",
              "  }\n",
              "\n",
              "  .colab-df-spinner {\n",
              "    border: 2px solid var(--fill-color);\n",
              "    border-color: transparent;\n",
              "    border-bottom-color: var(--fill-color);\n",
              "    animation:\n",
              "      spin 1s steps(1) infinite;\n",
              "  }\n",
              "\n",
              "  @keyframes spin {\n",
              "    0% {\n",
              "      border-color: transparent;\n",
              "      border-bottom-color: var(--fill-color);\n",
              "      border-left-color: var(--fill-color);\n",
              "    }\n",
              "    20% {\n",
              "      border-color: transparent;\n",
              "      border-left-color: var(--fill-color);\n",
              "      border-top-color: var(--fill-color);\n",
              "    }\n",
              "    30% {\n",
              "      border-color: transparent;\n",
              "      border-left-color: var(--fill-color);\n",
              "      border-top-color: var(--fill-color);\n",
              "      border-right-color: var(--fill-color);\n",
              "    }\n",
              "    40% {\n",
              "      border-color: transparent;\n",
              "      border-right-color: var(--fill-color);\n",
              "      border-top-color: var(--fill-color);\n",
              "    }\n",
              "    60% {\n",
              "      border-color: transparent;\n",
              "      border-right-color: var(--fill-color);\n",
              "    }\n",
              "    80% {\n",
              "      border-color: transparent;\n",
              "      border-right-color: var(--fill-color);\n",
              "      border-bottom-color: var(--fill-color);\n",
              "    }\n",
              "    90% {\n",
              "      border-color: transparent;\n",
              "      border-bottom-color: var(--fill-color);\n",
              "    }\n",
              "  }\n",
              "</style>\n",
              "\n",
              "  <script>\n",
              "    async function quickchart(key) {\n",
              "      const quickchartButtonEl =\n",
              "        document.querySelector('#' + key + ' button');\n",
              "      quickchartButtonEl.disabled = true;  // To prevent multiple clicks.\n",
              "      quickchartButtonEl.classList.add('colab-df-spinner');\n",
              "      try {\n",
              "        const charts = await google.colab.kernel.invokeFunction(\n",
              "            'suggestCharts', [key], {});\n",
              "      } catch (error) {\n",
              "        console.error('Error during call to suggestCharts:', error);\n",
              "      }\n",
              "      quickchartButtonEl.classList.remove('colab-df-spinner');\n",
              "      quickchartButtonEl.classList.add('colab-df-quickchart-complete');\n",
              "    }\n",
              "    (() => {\n",
              "      let quickchartButtonEl =\n",
              "        document.querySelector('#df-9ca33d09-fa0b-4b36-8212-6cffb51b5091 button');\n",
              "      quickchartButtonEl.style.display =\n",
              "        google.colab.kernel.accessAllowed ? 'block' : 'none';\n",
              "    })();\n",
              "  </script>\n",
              "</div>\n",
              "\n",
              "  <div id=\"id_e406e11e-d951-481d-89a7-3bef679fc05a\">\n",
              "    <style>\n",
              "      .colab-df-generate {\n",
              "        background-color: #E8F0FE;\n",
              "        border: none;\n",
              "        border-radius: 50%;\n",
              "        cursor: pointer;\n",
              "        display: none;\n",
              "        fill: #1967D2;\n",
              "        height: 32px;\n",
              "        padding: 0 0 0 0;\n",
              "        width: 32px;\n",
              "      }\n",
              "\n",
              "      .colab-df-generate:hover {\n",
              "        background-color: #E2EBFA;\n",
              "        box-shadow: 0px 1px 2px rgba(60, 64, 67, 0.3), 0px 1px 3px 1px rgba(60, 64, 67, 0.15);\n",
              "        fill: #174EA6;\n",
              "      }\n",
              "\n",
              "      [theme=dark] .colab-df-generate {\n",
              "        background-color: #3B4455;\n",
              "        fill: #D2E3FC;\n",
              "      }\n",
              "\n",
              "      [theme=dark] .colab-df-generate:hover {\n",
              "        background-color: #434B5C;\n",
              "        box-shadow: 0px 1px 3px 1px rgba(0, 0, 0, 0.15);\n",
              "        filter: drop-shadow(0px 1px 2px rgba(0, 0, 0, 0.3));\n",
              "        fill: #FFFFFF;\n",
              "      }\n",
              "    </style>\n",
              "    <button class=\"colab-df-generate\" onclick=\"generateWithVariable('processed_data')\"\n",
              "            title=\"Generate code using this dataframe.\"\n",
              "            style=\"display:none;\">\n",
              "\n",
              "  <svg xmlns=\"http://www.w3.org/2000/svg\" height=\"24px\"viewBox=\"0 0 24 24\"\n",
              "       width=\"24px\">\n",
              "    <path d=\"M7,19H8.4L18.45,9,17,7.55,7,17.6ZM5,21V16.75L18.45,3.32a2,2,0,0,1,2.83,0l1.4,1.43a1.91,1.91,0,0,1,.58,1.4,1.91,1.91,0,0,1-.58,1.4L9.25,21ZM18.45,9,17,7.55Zm-12,3A5.31,5.31,0,0,0,4.9,8.1,5.31,5.31,0,0,0,1,6.5,5.31,5.31,0,0,0,4.9,4.9,5.31,5.31,0,0,0,6.5,1,5.31,5.31,0,0,0,8.1,4.9,5.31,5.31,0,0,0,12,6.5,5.46,5.46,0,0,0,6.5,12Z\"/>\n",
              "  </svg>\n",
              "    </button>\n",
              "    <script>\n",
              "      (() => {\n",
              "      const buttonEl =\n",
              "        document.querySelector('#id_e406e11e-d951-481d-89a7-3bef679fc05a button.colab-df-generate');\n",
              "      buttonEl.style.display =\n",
              "        google.colab.kernel.accessAllowed ? 'block' : 'none';\n",
              "\n",
              "      buttonEl.onclick = () => {\n",
              "        google.colab.notebook.generateWithVariable('processed_data');\n",
              "      }\n",
              "      })();\n",
              "    </script>\n",
              "  </div>\n",
              "\n",
              "    </div>\n",
              "  </div>\n"
            ]
          },
          "metadata": {},
          "execution_count": 24
        }
      ],
      "source": [
        "processed_data.head()"
      ]
    },
    {
      "cell_type": "code",
      "execution_count": 29,
      "metadata": {
        "id": "OuQrXtFkKkKZ"
      },
      "outputs": [],
      "source": [
        "from sklearn.model_selection import train_test_split, GridSearchCV\n",
        "from sklearn.ensemble import RandomForestRegressor, GradientBoostingRegressor\n",
        "from sklearn.linear_model import LinearRegression,ElasticNet, Lasso, SGDRegressor\n",
        "from sklearn.neighbors import KNeighborsRegressor\n",
        "from sklearn.metrics import mean_squared_error, r2_score, explained_variance_score\n",
        "import pickle\n",
        "from sklearn.metrics import accuracy_score\n",
        "\n",
        "\n",
        "# Assuming 'processed_data' is your preprocessed DataFrame\n",
        "features = processed_data.drop(['resale_price'], axis=1)\n",
        "target = processed_data['resale_price']\n"
      ]
    },
    {
      "cell_type": "markdown",
      "metadata": {
        "id": "I9Lu4NLZdv6A"
      },
      "source": [
        "# Split the data into training and testing sets"
      ]
    },
    {
      "cell_type": "code",
      "execution_count": 30,
      "metadata": {
        "id": "ozZfMp5jdk3w"
      },
      "outputs": [],
      "source": [
        "\n",
        "X_train, X_test, y_train, y_test = train_test_split(features, target, test_size=0.2, random_state=42)"
      ]
    },
    {
      "cell_type": "markdown",
      "source": [
        "# Explained_variance_score\n",
        "\n",
        "Similar to accuracy for a regression problem, we can use a metric called \"explained variance score\" or \"explained variance ratio,\" which is available in scikit-learn as explained_variance_score.\n",
        "\n",
        "This metric indicates the proportion of the variance in the dependent variable that is predictable from the independent variables."
      ],
      "metadata": {
        "id": "BoYDQypc63IL"
      }
    },
    {
      "cell_type": "code",
      "execution_count": 31,
      "metadata": {
        "colab": {
          "base_uri": "https://localhost:8080/"
        },
        "id": "VyTfrBQw5vEt",
        "outputId": "a54ae539-c4d9-4c74-b515-3a8d487a1367"
      },
      "outputs": [
        {
          "output_type": "stream",
          "name": "stdout",
          "text": [
            "Linear Regression:\n",
            "Best Hyperparameters: {}\n",
            "Mean Squared Error (MSE): 6827763148.021332\n",
            "R2 Score: 0.7574085238131081\n",
            "Accuracy Score: 0.7574087059425736\n"
          ]
        }
      ],
      "source": [
        "# Linear Regression\n",
        "linear_reg = LinearRegression()\n",
        "\n",
        "# Hyperparameter tuning using GridSearchCV\n",
        "param_grid_linear_reg = {}\n",
        "grid_search_linear_reg = GridSearchCV(linear_reg, param_grid_linear_reg, scoring='neg_mean_squared_error', cv=3, n_jobs=-1)\n",
        "grid_search_linear_reg.fit(X_train, y_train)\n",
        "\n",
        "# Best hyperparameters\n",
        "best_params_linear_reg = grid_search_linear_reg.best_params_\n",
        "\n",
        "# Train the model with the best hyperparameters\n",
        "tuned_linear_reg = grid_search_linear_reg.best_estimator_\n",
        "tuned_linear_reg.fit(X_train, y_train)\n",
        "\n",
        "# Make predictions on the test set\n",
        "y_pred_linear_reg = tuned_linear_reg.predict(X_test)\n",
        "\n",
        "# Calculate accuracy\n",
        "accuracy_linear_reg = explained_variance_score(y_test, y_pred_linear_reg)\n",
        "\n",
        "\n",
        "# Evaluate the model\n",
        "mse_linear_reg = mean_squared_error(y_test, y_pred_linear_reg)\n",
        "r2_linear_reg = r2_score(y_test, y_pred_linear_reg)\n",
        "\n",
        "# Display results\n",
        "print(\"Linear Regression:\")\n",
        "print(f\"Best Hyperparameters: {best_params_linear_reg}\")\n",
        "print(f\"Mean Squared Error (MSE): {mse_linear_reg}\")\n",
        "print(f\"R2 Score: {r2_linear_reg}\")\n",
        "print(f\"Accuracy Score: {accuracy_linear_reg}\")\n"
      ]
    },
    {
      "cell_type": "code",
      "execution_count": null,
      "metadata": {
        "id": "gqxjE1HPdih9"
      },
      "outputs": [],
      "source": []
    },
    {
      "cell_type": "code",
      "execution_count": 32,
      "metadata": {
        "colab": {
          "base_uri": "https://localhost:8080/"
        },
        "id": "nEmE3oDi5vJc",
        "outputId": "cb8c6adc-67db-497a-de2c-d322e024df7d"
      },
      "outputs": [
        {
          "output_type": "stream",
          "name": "stdout",
          "text": [
            "Accuracy Score: 0.973906726021855\n",
            "Random Forest:\n",
            "Best Hyperparameters: {'n_estimators': 25}\n",
            "Mean Squared Error (MSE): 734407365.5355076\n",
            "R2 Score: 0.973906393197102\n"
          ]
        }
      ],
      "source": [
        "# Random Forest\n",
        "random_forest = RandomForestRegressor()\n",
        "\n",
        "# Hyperparameter tuning using GridSearchCV\n",
        "param_grid_random_forest = {'n_estimators': [1, 25]}\n",
        "grid_search_random_forest = GridSearchCV(random_forest, param_grid_random_forest)\n",
        "grid_search_random_forest.fit(X_train, y_train)\n",
        "\n",
        "# Best hyperparameters\n",
        "best_params_random_forest = grid_search_random_forest.best_params_\n",
        "\n",
        "# Train the model with the best hyperparameters\n",
        "tuned_random_forest = grid_search_random_forest.best_estimator_\n",
        "tuned_random_forest.fit(X_train, y_train)\n",
        "\n",
        "# Make predictions on the test set\n",
        "y_pred_random_forest = tuned_random_forest.predict(X_test)\n",
        "\n",
        "# Calculate accuracy\n",
        "accuracy_random_forest = explained_variance_score(y_test, y_pred_random_forest)\n",
        "print(f\"Accuracy Score: {accuracy_random_forest}\")\n",
        "\n",
        "# Evaluate the model\n",
        "mse_random_forest = mean_squared_error(y_test, y_pred_random_forest)\n",
        "r2_random_forest = r2_score(y_test, y_pred_random_forest)\n",
        "\n",
        "# Display results\n",
        "print(\"Random Forest:\")\n",
        "print(f\"Best Hyperparameters: {best_params_random_forest}\")\n",
        "print(f\"Mean Squared Error (MSE): {mse_random_forest}\")\n",
        "print(f\"R2 Score: {r2_random_forest}\")"
      ]
    },
    {
      "cell_type": "code",
      "execution_count": 33,
      "metadata": {
        "colab": {
          "base_uri": "https://localhost:8080/"
        },
        "id": "4fYKoqsL5vOB",
        "outputId": "0e155e7b-792d-48f6-c96d-eb09874a0c35"
      },
      "outputs": [
        {
          "output_type": "stream",
          "name": "stdout",
          "text": [
            "Accuracy Score: 0.8286366735918886\n",
            "Gradient Boosting:\n",
            "Best Hyperparameters: {'learning_rate': 0.1, 'n_estimators': 25}\n",
            "Mean Squared Error (MSE): 4823039233.233168\n",
            "R2 Score: 0.8286366732512681\n"
          ]
        }
      ],
      "source": [
        "# Gradient Boosting\n",
        "gradient_boosting = GradientBoostingRegressor()\n",
        "\n",
        "# Hyperparameter tuning using GridSearchCV\n",
        "param_grid_gradient_boosting = {'n_estimators': [10,25], 'learning_rate': [0.01, 0.1]}\n",
        "grid_search_gradient_boosting = GridSearchCV(gradient_boosting, param_grid_gradient_boosting)\n",
        "grid_search_gradient_boosting.fit(X_train, y_train)\n",
        "\n",
        "# Best hyperparameters\n",
        "best_params_gradient_boosting = grid_search_gradient_boosting.best_params_\n",
        "\n",
        "# Train the model with the best hyperparameters\n",
        "tuned_gradient_boosting = grid_search_gradient_boosting.best_estimator_\n",
        "tuned_gradient_boosting.fit(X_train, y_train)\n",
        "\n",
        "# Make predictions on the test set\n",
        "y_pred_gradient_boosting = tuned_gradient_boosting.predict(X_test)\n",
        "\n",
        "# Calculate accuracy\n",
        "accuracy_gradient_boosting = explained_variance_score(y_test, y_pred_gradient_boosting)\n",
        "print(f\"Accuracy Score: {accuracy_gradient_boosting}\")\n",
        "\n",
        "# Evaluate the model\n",
        "mse_gradient_boosting = mean_squared_error(y_test, y_pred_gradient_boosting)\n",
        "r2_gradient_boosting = r2_score(y_test, y_pred_gradient_boosting)\n",
        "\n",
        "# Display results\n",
        "print(\"Gradient Boosting:\")\n",
        "print(f\"Best Hyperparameters: {best_params_gradient_boosting}\")\n",
        "print(f\"Mean Squared Error (MSE): {mse_gradient_boosting}\")\n",
        "print(f\"R2 Score: {r2_gradient_boosting}\")"
      ]
    },
    {
      "cell_type": "code",
      "execution_count": 34,
      "metadata": {
        "id": "LVPE7ZrirAly"
      },
      "outputs": [],
      "source": [
        "# Since SVM perform primarly good on small datasets we'll skip this algorithm"
      ]
    },
    {
      "cell_type": "code",
      "execution_count": 35,
      "metadata": {
        "colab": {
          "base_uri": "https://localhost:8080/"
        },
        "id": "FcFPEtqFLyPu",
        "outputId": "f681ee82-e33f-40bc-f593-c04de089e03f"
      },
      "outputs": [
        {
          "output_type": "stream",
          "name": "stdout",
          "text": [
            "Accuracy Score: 0.7566399124400187\n",
            "Elastic Net Regression:\n",
            "Best Hyperparameters: {'alpha': 0.1, 'l1_ratio': 0.5}\n",
            "Mean Squared Error (MSE): 6849402333.3885975\n",
            "R2 Score: 0.7566396802243776\n"
          ]
        }
      ],
      "source": [
        "\n",
        "\n",
        "# Elastic Net Regression\n",
        "elastic_net = ElasticNet()\n",
        "\n",
        "# Hyperparameter tuning using GridSearchCV\n",
        "param_grid_elastic_net = {'alpha': [0.1, 1], 'l1_ratio': [0.1, 0.5]}\n",
        "grid_search_elastic_net = GridSearchCV(elastic_net, param_grid_elastic_net, scoring='neg_mean_squared_error')\n",
        "grid_search_elastic_net.fit(X_train, y_train)\n",
        "\n",
        "# Best hyperparameters\n",
        "best_params_elastic_net = grid_search_elastic_net.best_params_\n",
        "\n",
        "# Train the model with the best hyperparameters\n",
        "tuned_elastic_net = grid_search_elastic_net.best_estimator_\n",
        "tuned_elastic_net.fit(X_train, y_train)\n",
        "\n",
        "# Make predictions on the test set\n",
        "y_pred_elastic_net = tuned_elastic_net.predict(X_test)\n",
        "\n",
        "# Calculate accuracy\n",
        "accuracy_elastic_net = explained_variance_score(y_test, y_pred_elastic_net)\n",
        "print(f\"Accuracy Score: {accuracy_elastic_net}\")\n",
        "\n",
        "# Evaluate the model\n",
        "mse_elastic_net = mean_squared_error(y_test, y_pred_elastic_net)\n",
        "r2_elastic_net = r2_score(y_test, y_pred_elastic_net)\n",
        "\n",
        "# Display results\n",
        "print(\"Elastic Net Regression:\")\n",
        "print(f\"Best Hyperparameters: {best_params_elastic_net}\")\n",
        "print(f\"Mean Squared Error (MSE): {mse_elastic_net}\")\n",
        "print(f\"R2 Score: {r2_elastic_net}\")\n"
      ]
    },
    {
      "cell_type": "code",
      "execution_count": 36,
      "metadata": {
        "colab": {
          "base_uri": "https://localhost:8080/"
        },
        "id": "n-bPaVitudXh",
        "outputId": "54093365-e818-4b71-be31-e8de1f53bb00"
      },
      "outputs": [
        {
          "output_type": "stream",
          "name": "stdout",
          "text": [
            "Accuracy Score: 0.757406544866162\n",
            "Lasso Regression:\n",
            "Best Hyperparameters: {'alpha': 0.1}\n",
            "Mean Squared Error (MSE): 6827824407.543677\n",
            "R2 Score: 0.7574063472528446\n"
          ]
        }
      ],
      "source": [
        "\n",
        "\n",
        "# Lasso Regression\n",
        "lasso = Lasso()\n",
        "\n",
        "# Hyperparameter tuning using GridSearchCV\n",
        "param_grid_lasso = {'alpha': [0.1, 1]}\n",
        "grid_search_lasso = GridSearchCV(lasso, param_grid_lasso, scoring='neg_mean_squared_error')\n",
        "grid_search_lasso.fit(X_train, y_train)\n",
        "\n",
        "# Best hyperparameters\n",
        "best_params_lasso = grid_search_lasso.best_params_\n",
        "\n",
        "# Train the model with the best hyperparameters\n",
        "tuned_lasso = grid_search_lasso.best_estimator_\n",
        "tuned_lasso.fit(X_train, y_train)\n",
        "\n",
        "# Make predictions on the test set\n",
        "y_pred_lasso = tuned_lasso.predict(X_test)\n",
        "\n",
        "# Calculate accuracy\n",
        "accuracy_lasso = explained_variance_score(y_test, y_pred_lasso)\n",
        "print(f\"Accuracy Score: {accuracy_lasso}\")\n",
        "\n",
        "# Evaluate the model\n",
        "mse_lasso = mean_squared_error(y_test, y_pred_lasso)\n",
        "r2_lasso = r2_score(y_test, y_pred_lasso)\n",
        "\n",
        "# Display results\n",
        "print(\"Lasso Regression:\")\n",
        "print(f\"Best Hyperparameters: {best_params_lasso}\")\n",
        "print(f\"Mean Squared Error (MSE): {mse_lasso}\")\n",
        "print(f\"R2 Score: {r2_lasso}\")\n"
      ]
    },
    {
      "cell_type": "code",
      "execution_count": 37,
      "metadata": {
        "colab": {
          "base_uri": "https://localhost:8080/"
        },
        "id": "RKXQqFxDudLT",
        "outputId": "0351c311-1f62-4fd4-8d24-8949af9a0c68"
      },
      "outputs": [
        {
          "output_type": "stream",
          "name": "stdout",
          "text": [
            "Accuracy Score: -9932432015760.469\n",
            "Stochastic Gradient Descent (SGD) Regressor:\n",
            "Best Hyperparameters: {'alpha': 0.01, 'learning_rate': 'adaptive'}\n",
            "Mean Squared Error (MSE): 5.332664984648295e+24\n",
            "R2 Score: -189470408183516.38\n"
          ]
        }
      ],
      "source": [
        "\n",
        "\n",
        "# SGD Regressor\n",
        "sgd_regressor = SGDRegressor()\n",
        "\n",
        "# Hyperparameter tuning using GridSearchCV\n",
        "param_grid_sgd = {'alpha': [0.0001, 0.01], 'learning_rate': ['adaptive']}\n",
        "grid_search_sgd = GridSearchCV(sgd_regressor, param_grid_sgd, scoring='neg_mean_squared_error')\n",
        "grid_search_sgd.fit(X_train, y_train)\n",
        "\n",
        "# Best hyperparameters\n",
        "best_params_sgd = grid_search_sgd.best_params_\n",
        "\n",
        "# Train the model with the best hyperparameters\n",
        "tuned_sgd_regressor = grid_search_sgd.best_estimator_\n",
        "tuned_sgd_regressor.fit(X_train, y_train)\n",
        "\n",
        "# Make predictions on the test set\n",
        "y_pred_sgd_regressor = tuned_sgd_regressor.predict(X_test)\n",
        "\n",
        "# Calculate accuracy\n",
        "accuracy_sgd_regressor = explained_variance_score(y_test, y_pred_sgd_regressor)\n",
        "print(f\"Accuracy Score: {accuracy_sgd_regressor}\")\n",
        "\n",
        "# Evaluate the model\n",
        "mse_sgd_regressor = mean_squared_error(y_test, y_pred_sgd_regressor)\n",
        "r2_sgd_regressor = r2_score(y_test, y_pred_sgd_regressor)\n",
        "\n",
        "# Display results\n",
        "print(\"Stochastic Gradient Descent (SGD) Regressor:\")\n",
        "print(f\"Best Hyperparameters: {best_params_sgd}\")\n",
        "print(f\"Mean Squared Error (MSE): {mse_sgd_regressor}\")\n",
        "print(f\"R2 Score: {r2_sgd_regressor}\")\n"
      ]
    },
    {
      "cell_type": "code",
      "execution_count": 38,
      "metadata": {
        "colab": {
          "base_uri": "https://localhost:8080/"
        },
        "id": "Siujuyrj5vVn",
        "outputId": "08652017-7eb0-4495-817c-cb9ffb5d175e"
      },
      "outputs": [
        {
          "output_type": "stream",
          "name": "stdout",
          "text": [
            "Accuracy Score: 0.9565279179833382\n",
            "K-Nearest Neighbors:\n",
            "Best Hyperparameters: {'n_neighbors': 5}\n",
            "Mean Squared Error (MSE): 1225444490.797535\n",
            "R2 Score: 0.9564597685123539\n"
          ]
        }
      ],
      "source": [
        "# K-Nearest Neighbors\n",
        "knn = KNeighborsRegressor()\n",
        "\n",
        "# Hyperparameter tuning using GridSearchCV\n",
        "param_grid_knn = {'n_neighbors': [3, 5]}\n",
        "grid_search_knn = GridSearchCV(knn, param_grid_knn)\n",
        "grid_search_knn.fit(X_train, y_train)\n",
        "\n",
        "# Best hyperparameters\n",
        "best_params_knn = grid_search_knn.best_params_\n",
        "\n",
        "# Train the model with the best hyperparameters\n",
        "tuned_knn = grid_search_knn.best_estimator_\n",
        "tuned_knn.fit(X_train, y_train)\n",
        "\n",
        "# Make predictions on the test set\n",
        "y_pred_knn = tuned_knn.predict(X_test)\n",
        "\n",
        "# Calculate accuracy\n",
        "accuracy_knn = explained_variance_score(y_test, y_pred_knn)\n",
        "print(f\"Accuracy Score: {accuracy_knn}\")\n",
        "\n",
        "# Evaluate the model\n",
        "mse_knn = mean_squared_error(y_test, y_pred_knn)\n",
        "r2_knn = r2_score(y_test, y_pred_knn)\n",
        "\n",
        "# Display results\n",
        "print(\"K-Nearest Neighbors:\")\n",
        "print(f\"Best Hyperparameters: {best_params_knn}\")\n",
        "print(f\"Mean Squared Error (MSE): {mse_knn}\")\n",
        "print(f\"R2 Score: {r2_knn}\")\n"
      ]
    },
    {
      "cell_type": "code",
      "execution_count": null,
      "metadata": {
        "id": "Xf7kxS28fPFa"
      },
      "outputs": [],
      "source": []
    },
    {
      "cell_type": "code",
      "execution_count": 39,
      "metadata": {
        "colab": {
          "base_uri": "https://localhost:8080/"
        },
        "id": "9OlHd1bI5vYl",
        "outputId": "10b76c0b-b918-4666-c820-28593f6818e6"
      },
      "outputs": [
        {
          "output_type": "stream",
          "name": "stdout",
          "text": [
            "\n",
            "Best Algorithm based on MSE or R2 Score: random_forest\n",
            "Best Model saved to: random_forest_best_model.pkl\n"
          ]
        }
      ],
      "source": [
        "import pickle\n",
        "\n",
        "# Dictionary to store metrics for each algorithm\n",
        "metrics_dict = {\n",
        "    'linear_regression': {'mse': mse_linear_reg, 'r2': r2_linear_reg, 'accuracy':accuracy_linear_reg },\n",
        "    'random_forest': {'mse': mse_random_forest, 'r2': r2_random_forest, 'accuracy':accuracy_random_forest},\n",
        "    'gradient_boosting': {'mse': mse_gradient_boosting, 'r2': r2_gradient_boosting, 'accuracy':accuracy_gradient_boosting},\n",
        "    'enr': {'mse': mse_elastic_net, 'r2': r2_elastic_net, 'accuracy':accuracy_elastic_net},\n",
        "    'sgd': {'mse': mse_sgd_regressor, 'r2': r2_sgd_regressor, 'accuracy':accuracy_sgd_regressor},\n",
        "    'lasso': {'mse': mse_lasso, 'r2': r2_lasso, 'accuracy':accuracy_lasso},\n",
        "    'knn': {'mse': mse_knn, 'r2': r2_knn, 'accuracy':accuracy_knn}\n",
        "}\n",
        "\n",
        "# Find the algorithm with the minimum MSE and maximum R2 Score\n",
        "best_mse_algorithm = min(metrics_dict, key=lambda x: metrics_dict[x]['mse'])\n",
        "best_r2_algorithm = max(metrics_dict, key=lambda x: metrics_dict[x]['r2'])\n",
        "best_accuracy_algorithm = max(metrics_dict, key=lambda x: metrics_dict[x]['accuracy'])\n",
        "\n",
        "# Choose the best algorithm based on MSE or R2 Score\n",
        "if metrics_dict[best_mse_algorithm]['mse'] <= metrics_dict[best_r2_algorithm]['r2']:\n",
        "    best_algorithm = best_mse_algorithm\n",
        "else:\n",
        "    best_algorithm = best_r2_algorithm\n",
        "\n",
        "# Store the best model in a pickle file\n",
        "best_model_filename = f\"{best_algorithm}_best_model.pkl\"\n",
        "\n",
        "if best_algorithm == 'linear_regression':\n",
        "    best_model = tuned_linear_reg\n",
        "elif best_algorithm == 'random_forest':\n",
        "    best_model = tuned_random_forest\n",
        "elif best_algorithm == 'gradient_boosting':\n",
        "    best_model = tuned_gradient_boosting\n",
        "elif best_algorithm == 'enr':\n",
        "    best_model = tuned_elastic_net\n",
        "elif best_algorithm == 'sgd':\n",
        "    best_model = tuned_sgd_regressor\n",
        "elif best_algorithm == 'lasso':\n",
        "    best_model = tuned_lasso\n",
        "elif best_algorithm == 'knn':\n",
        "    best_model = tuned_knn\n",
        "\n",
        "# Save the best model to the pickle file\n",
        "with open(best_model_filename, 'wb') as model_file:\n",
        "    pickle.dump(best_model, model_file)\n",
        "\n",
        "print(f\"\\nBest Algorithm based on MSE or R2 Score: {best_algorithm}\")\n",
        "print(f\"Best Model saved to: {best_model_filename}\")\n"
      ]
    },
    {
      "cell_type": "code",
      "execution_count": 52,
      "metadata": {
        "id": "dFYEJB-4KkNy",
        "colab": {
          "base_uri": "https://localhost:8080/"
        },
        "outputId": "057cb343-1946-4eaf-ebcf-84ee6647fbc6"
      },
      "outputs": [
        {
          "output_type": "stream",
          "name": "stdout",
          "text": [
            "linear_regression :  0.7574087059425736\n",
            "random_forest :  0.973906726021855\n",
            "gradient_boosting :  0.8286366735918886\n",
            "enr :  0.7566399124400187\n",
            "sgd :  -9932432015760.469\n",
            "lasso :  0.757406544866162\n",
            "knn :  0.9565279179833382\n"
          ]
        }
      ],
      "source": [
        "best_accuracy_algorithm = max(metrics_dict, key=lambda x: metrics_dict[x]['accuracy'])\n",
        "best_accuracy_algorithm\n",
        "\n",
        "for i in metrics_dict:\n",
        "  print(i, ': ',metrics_dict[i]['accuracy'])"
      ]
    },
    {
      "cell_type": "code",
      "source": [],
      "metadata": {
        "id": "hPgrhieaDbWl"
      },
      "execution_count": null,
      "outputs": []
    },
    {
      "cell_type": "markdown",
      "metadata": {
        "id": "0WqZkxj1KkUp"
      },
      "source": [
        "# Testing using new data"
      ]
    },
    {
      "cell_type": "code",
      "execution_count": 57,
      "metadata": {
        "id": "4kWN-QVfKkX-",
        "colab": {
          "base_uri": "https://localhost:8080/"
        },
        "outputId": "1a80a92d-50cd-4ab3-c6c3-c8e4b5832821"
      },
      "outputs": [
        {
          "output_type": "stream",
          "name": "stdout",
          "text": [
            "Predicted Resale Price: [152234.28571429]\n"
          ]
        }
      ],
      "source": [
        "import pandas as pd\n",
        "import pickle\n",
        "\n",
        "# Your concatenated_dict (assuming it contains label encodings)\n",
        "concatenated_dict = {\n",
        "'town':  {'ANG MO KIO': 0, 'BEDOK': 1, 'BISHAN': 2, 'BUKIT BATOK': 3, 'BUKIT MERAH': 4, 'BUKIT PANJANG': 5, 'BUKIT TIMAH': 6, 'CENTRAL AREA': 7, 'CHOA CHU KANG': 8, 'CLEMENTI': 9, 'GEYLANG': 10, 'HOUGANG': 11, 'JURONG EAST': 12, 'JURONG WEST': 13, 'KALLANG/WHAMPOA': 14, 'LIM CHU KANG': 15, 'MARINE PARADE': 16, 'PASIR RIS': 17, 'PUNGGOL': 18, 'QUEENSTOWN': 19, 'SEMBAWANG': 20, 'SENGKANG': 21, 'SERANGOON': 22, 'TAMPINES': 23, 'TOA PAYOH': 24, 'WOODLANDS': 25, 'YISHUN': 26},\n",
        "'flat_type':  {'1 ROOM': 0, '2 ROOM': 1, '3 ROOM': 2, '4 ROOM': 3, '5 ROOM': 4, 'EXECUTIVE': 5, 'MULTI GENERATION': 6, 'MULTI-GENERATION': 7},\n",
        "'storey_range':  {'01 TO 03': 0, '01 TO 05': 1, '04 TO 06': 2, '06 TO 10': 3, '07 TO 09': 4, '10 TO 12': 5, '11 TO 15': 6, '13 TO 15': 7, '16 TO 18': 8, '16 TO 20': 9, '19 TO 21': 10, '21 TO 25': 11, '22 TO 24': 12, '25 TO 27': 13, '26 TO 30': 14, '28 TO 30': 15, '31 TO 33': 16, '31 TO 35': 17, '34 TO 36': 18, '36 TO 40': 19, '37 TO 39': 20, '40 TO 42': 21, '43 TO 45': 22, '46 TO 48': 23, '49 TO 51': 24},\n",
        "'flat_model':  {'2-ROOM': 0, '3GEN': 1, 'ADJOINED FLAT': 2, 'APARTMENT': 3, 'DBSS': 4, 'IMPROVED': 5, 'IMPROVED-MAISONETTE': 6, 'MAISONETTE': 7, 'MODEL A': 8, 'MODEL A-MAISONETTE': 9, 'MODEL A2': 10, 'MULTI GENERATION': 11, 'NEW GENERATION': 12, 'PREMIUM APARTMENT': 13, 'PREMIUM APARTMENT LOFT': 14, 'PREMIUM MAISONETTE': 15, 'SIMPLIFIED': 16, 'STANDARD': 17, 'TERRACE': 18, 'TYPE S1': 19, 'TYPE S2': 20}\n",
        "}\n",
        "\n",
        "\n",
        "# Your new_data DataFrame\n",
        "new_data = pd.DataFrame({\n",
        "    'town': ['ANG MO KIO'],\n",
        "    'flat_type': ['3 ROOM'],\n",
        "    'storey_range': ['07 TO 09'],\n",
        "    'floor_area_sqm': [69.0],\n",
        "    'flat_model': ['IMPROVED'],\n",
        "    'lease_commence_date': [1986],\n",
        "    'remaining_lease': [14],\n",
        "    'year': [2000]\n",
        "})\n",
        "\n",
        "# Function to get label encoding for each column in a row\n",
        "def get_label_encoding(row):\n",
        "    label_encodings = {}\n",
        "    for col, value in row.items():\n",
        "        if col in concatenated_dict and value in concatenated_dict[col]:\n",
        "            label_encodings[col] = concatenated_dict[col][value]\n",
        "        else:\n",
        "            label_encodings[col] = value\n",
        "\n",
        "    return label_encodings\n",
        "\n",
        "# Apply the function to each row in new_data\n",
        "new_data_label_encodings = new_data.apply(get_label_encoding, axis=1)\n",
        "\n",
        "# Load the best model from the pickle file\n",
        "model_filename = \"/content/random_forest_best_model.pkl\"  # Replace with the actual filename\n",
        "with open(model_filename, 'rb') as model_file:\n",
        "    best_model = pickle.load(model_file)\n",
        "\n",
        "# Convert label encodings to a DataFrame\n",
        "new_data_encoded = pd.DataFrame(list(new_data_label_encodings))\n",
        "\n",
        "# Make predictions on the new sample data\n",
        "new_data_predictions = best_model.predict(new_data_encoded)\n",
        "\n",
        "# Display the predictions\n",
        "print(\"Predicted Resale Price:\", new_data_predictions)\n"
      ]
    },
    {
      "cell_type": "code",
      "execution_count": null,
      "metadata": {
        "id": "yXjMBmeFGkMZ"
      },
      "outputs": [],
      "source": []
    },
    {
      "cell_type": "markdown",
      "metadata": {
        "id": "PIMY5SE3Kkev"
      },
      "source": [
        "# Streamlit app"
      ]
    },
    {
      "cell_type": "code",
      "execution_count": null,
      "metadata": {
        "id": "MviTks7ouMpk"
      },
      "outputs": [],
      "source": [
        "!pip install streamlit easyocr pillow -q\n"
      ]
    },
    {
      "cell_type": "code",
      "execution_count": 58,
      "metadata": {
        "colab": {
          "base_uri": "https://localhost:8080/"
        },
        "id": "YyZzsBc4uMl6",
        "outputId": "656ff448-9d56-4a4b-c822-b119623f64b2"
      },
      "outputs": [
        {
          "output_type": "stream",
          "name": "stderr",
          "text": [
            "2024-01-21 08:15:30.999 \n",
            "  \u001b[33m\u001b[1mWarning:\u001b[0m to view this Streamlit app on a browser, run it with the following\n",
            "  command:\n",
            "\n",
            "    streamlit run /usr/local/lib/python3.10/dist-packages/colab_kernel_launcher.py [ARGUMENTS]\n"
          ]
        }
      ],
      "source": [
        "import streamlit as st\n",
        "import pandas as pd\n",
        "import pickle\n",
        "from sklearn.preprocessing import LabelEncoder\n",
        "\n",
        "# # Load the best model from the pickle file\n",
        "# best_model_filename = '/content/drive/MyDrive/SRA/random_forest_best_model.pkl'\n",
        "# with open(best_model_filename, 'rb') as model_file:\n",
        "#     loaded_model = pickle.load(model_file)\n",
        "\n",
        "# Your concatenated_dict (assuming it contains label encodings)\n",
        "concatenated_dict = {\n",
        "'town':  {'ANG MO KIO': 0, 'BEDOK': 1, 'BISHAN': 2, 'BUKIT BATOK': 3, 'BUKIT MERAH': 4, 'BUKIT PANJANG': 5, 'BUKIT TIMAH': 6, 'CENTRAL AREA': 7, 'CHOA CHU KANG': 8, 'CLEMENTI': 9, 'GEYLANG': 10, 'HOUGANG': 11, 'JURONG EAST': 12, 'JURONG WEST': 13, 'KALLANG/WHAMPOA': 14, 'LIM CHU KANG': 15, 'MARINE PARADE': 16, 'PASIR RIS': 17, 'PUNGGOL': 18, 'QUEENSTOWN': 19, 'SEMBAWANG': 20, 'SENGKANG': 21, 'SERANGOON': 22, 'TAMPINES': 23, 'TOA PAYOH': 24, 'WOODLANDS': 25, 'YISHUN': 26},\n",
        "'flat_type':  {'1 ROOM': 0, '2 ROOM': 1, '3 ROOM': 2, '4 ROOM': 3, '5 ROOM': 4, 'EXECUTIVE': 5, 'MULTI GENERATION': 6, 'MULTI-GENERATION': 7},\n",
        "'storey_range':  {'01 TO 03': 0, '01 TO 05': 1, '04 TO 06': 2, '06 TO 10': 3, '07 TO 09': 4, '10 TO 12': 5, '11 TO 15': 6, '13 TO 15': 7, '16 TO 18': 8, '16 TO 20': 9, '19 TO 21': 10, '21 TO 25': 11, '22 TO 24': 12, '25 TO 27': 13, '26 TO 30': 14, '28 TO 30': 15, '31 TO 33': 16, '31 TO 35': 17, '34 TO 36': 18, '36 TO 40': 19, '37 TO 39': 20, '40 TO 42': 21, '43 TO 45': 22, '46 TO 48': 23, '49 TO 51': 24},\n",
        "'flat_model':  {'2-ROOM': 0, '3GEN': 1, 'ADJOINED FLAT': 2, 'APARTMENT': 3, 'DBSS': 4, 'IMPROVED': 5, 'IMPROVED-MAISONETTE': 6, 'MAISONETTE': 7, 'MODEL A': 8, 'MODEL A-MAISONETTE': 9, 'MODEL A2': 10, 'MULTI GENERATION': 11, 'NEW GENERATION': 12, 'PREMIUM APARTMENT': 13, 'PREMIUM APARTMENT LOFT': 14, 'PREMIUM MAISONETTE': 15, 'SIMPLIFIED': 16, 'STANDARD': 17, 'TERRACE': 18, 'TYPE S1': 19, 'TYPE S2': 20}\n",
        "}\n",
        "\n",
        "\n",
        "\n",
        "# Function to get label encoding for each column in a row\n",
        "def get_label_encoding(row):\n",
        "    label_encodings = {}\n",
        "    for col, value in row.items():\n",
        "        if col in concatenated_dict and value in concatenated_dict[col]:\n",
        "            label_encodings[col] = concatenated_dict[col][value]\n",
        "        else:\n",
        "            label_encodings[col] = value\n",
        "\n",
        "    return label_encodings\n",
        "\n",
        "\n",
        "\n",
        "# Function to make predictions\n",
        "def predict_price(year, flat_type, storey_range, floor_area_sqm, flat_model, lease_commence_date, remaining_lease, town):\n",
        "    # Create a DataFrame with user inputs\n",
        "    user_input = pd.DataFrame({\n",
        "        'year': [year],\n",
        "        'flat_type': [flat_type],\n",
        "        'storey_range': [storey_range],\n",
        "        'floor_area_sqm': [floor_area_sqm],\n",
        "        'flat_model': [flat_model],\n",
        "        'lease_commence_date': [lease_commence_date],\n",
        "        'remaining_lease': [remaining_lease],\n",
        "        'town': [town]\n",
        "    })\n",
        "\n",
        "    # Apply the function to each row in new_data\n",
        "    new_data_label_encodings = user_input.apply(get_label_encoding, axis=1)\n",
        "\n",
        "    # Load the best model from the pickle file\n",
        "    model_filename = \"/content/drive/MyDrive/SRA/random_forest_best_model.pkl\"  # Replace with the actual filename\n",
        "    with open(model_filename, 'rb') as model_file:\n",
        "        best_model = pickle.load(model_file)\n",
        "\n",
        "\n",
        "    # Convert label encodings to a DataFrame\n",
        "    new_data_encoded = pd.DataFrame(list(new_data_label_encodings))\n",
        "\n",
        "    # Make predictions on the new sample data\n",
        "    new_data_predictions = best_model.predict(new_data_encoded)\n",
        "\n",
        "    # Display the predictions\n",
        "\n",
        "    return print(\"Predicted Resale Price:\", new_data_predictions)\n",
        "\n",
        "# Streamlit App\n",
        "st.title('HDB Resale Price Prediction')\n",
        "\n",
        "# Input fields for user to enter data\n",
        "year = st.slider('Select Year', 2017, 2023, 2020)\n",
        "flat_type = st.selectbox('Select Flat Type', data['flat_type'].unique())\n",
        "storey_range = st.selectbox('Select Storey Range', data['storey_range'].unique())\n",
        "floor_area_sqm = st.slider('Select Floor Area (sqm)', 30, 200, 80)\n",
        "flat_model = st.selectbox('Select Flat Model', data['flat_model'].unique())\n",
        "lease_commence_date = st.slider('Select Lease Commence Date', 1960, 2023, 1980)\n",
        "remaining_lease = st.slider('Select Remaining Lease', 0, 99, 50)\n",
        "town = st.selectbox('Select Town', data['town'].unique())\n",
        "\n",
        "# Make prediction when the 'Predict' button is clicked\n",
        "if st.button('Predict'):\n",
        "    predicted_price = predict_price(year, flat_type, storey_range, floor_area_sqm, flat_model, lease_commence_date, remaining_lease, town)\n",
        "    st.success(f'The predicted resale price is: ${predicted_price:,.2f}')\n"
      ]
    },
    {
      "cell_type": "code",
      "source": [
        "categorical_features.columns"
      ],
      "metadata": {
        "colab": {
          "base_uri": "https://localhost:8080/"
        },
        "id": "un0bBP_MMNHi",
        "outputId": "70cb2fa5-db2f-43fa-ab36-2812bc4eae5a"
      },
      "execution_count": 64,
      "outputs": [
        {
          "output_type": "execute_result",
          "data": {
            "text/plain": [
              "Index(['town', 'flat_type', 'storey_range', 'flat_model'], dtype='object')"
            ]
          },
          "metadata": {},
          "execution_count": 64
        }
      ]
    },
    {
      "cell_type": "code",
      "source": [],
      "metadata": {
        "id": "2vAtPHu_O9dU"
      },
      "execution_count": null,
      "outputs": []
    },
    {
      "cell_type": "markdown",
      "source": [
        "# Running streamlit app in Colab"
      ],
      "metadata": {
        "id": "MR4Ct0ddIBxC"
      }
    },
    {
      "cell_type": "code",
      "source": [
        "%%writefile app.py\n",
        "\n",
        "\n",
        "import streamlit as st\n",
        "import pandas as pd\n",
        "import pickle\n",
        "from sklearn.preprocessing import LabelEncoder\n",
        "\n",
        "\n",
        "# Your concatenated_dict (assuming it contains label encodings)\n",
        "concatenated_dict = {\n",
        "'town':  {'ANG MO KIO': 0, 'BEDOK': 1, 'BISHAN': 2, 'BUKIT BATOK': 3, 'BUKIT MERAH': 4, 'BUKIT PANJANG': 5, 'BUKIT TIMAH': 6, 'CENTRAL AREA': 7, 'CHOA CHU KANG': 8, 'CLEMENTI': 9, 'GEYLANG': 10, 'HOUGANG': 11, 'JURONG EAST': 12, 'JURONG WEST': 13, 'KALLANG/WHAMPOA': 14, 'LIM CHU KANG': 15, 'MARINE PARADE': 16, 'PASIR RIS': 17, 'PUNGGOL': 18, 'QUEENSTOWN': 19, 'SEMBAWANG': 20, 'SENGKANG': 21, 'SERANGOON': 22, 'TAMPINES': 23, 'TOA PAYOH': 24, 'WOODLANDS': 25, 'YISHUN': 26},\n",
        "'flat_type':  {'1 ROOM': 0, '2 ROOM': 1, '3 ROOM': 2, '4 ROOM': 3, '5 ROOM': 4, 'EXECUTIVE': 5, 'MULTI GENERATION': 6, 'MULTI-GENERATION': 7},\n",
        "'storey_range':  {'01 TO 03': 0, '01 TO 05': 1, '04 TO 06': 2, '06 TO 10': 3, '07 TO 09': 4, '10 TO 12': 5, '11 TO 15': 6, '13 TO 15': 7, '16 TO 18': 8, '16 TO 20': 9, '19 TO 21': 10, '21 TO 25': 11, '22 TO 24': 12, '25 TO 27': 13, '26 TO 30': 14, '28 TO 30': 15, '31 TO 33': 16, '31 TO 35': 17, '34 TO 36': 18, '36 TO 40': 19, '37 TO 39': 20, '40 TO 42': 21, '43 TO 45': 22, '46 TO 48': 23, '49 TO 51': 24},\n",
        "'flat_model':  {'2-ROOM': 0, '3GEN': 1, 'ADJOINED FLAT': 2, 'APARTMENT': 3, 'DBSS': 4, 'IMPROVED': 5, 'IMPROVED-MAISONETTE': 6, 'MAISONETTE': 7, 'MODEL A': 8, 'MODEL A-MAISONETTE': 9, 'MODEL A2': 10, 'MULTI GENERATION': 11, 'NEW GENERATION': 12, 'PREMIUM APARTMENT': 13, 'PREMIUM APARTMENT LOFT': 14, 'PREMIUM MAISONETTE': 15, 'SIMPLIFIED': 16, 'STANDARD': 17, 'TERRACE': 18, 'TYPE S1': 19, 'TYPE S2': 20}\n",
        "}\n",
        "\n",
        "flat_type = ['3 ROOM', '4 ROOM', '5 ROOM', 'EXECUTIVE', '2 ROOM', 'MULTI-GENERATION', '1 ROOM', 'MULTI GENERATION']\n",
        "\n",
        "storey_range = ['07 TO 09', '04 TO 06', '01 TO 03', '10 TO 12', '13 TO 15', '16 TO 18', '19 TO 21', '22 TO 24', '25 TO 27', '28 TO 30', '31 TO 33', '40 TO 42', '37 TO 39', '34 TO 36', '49 TO 51', '46 TO 48', '43 TO 45', '06 TO 10', '01 TO 05', '11 TO 15', '16 TO 20', '21 TO 25', '26 TO 30', '36 TO 40', '31 TO 35']\n",
        "\n",
        "flat_model =  ['IMPROVED', 'NEW GENERATION', 'MODEL A', 'STANDARD', 'APARTMENT', 'SIMPLIFIED', 'MODEL A-MAISONETTE', 'MAISONETTE', 'MULTI GENERATION', 'ADJOINED FLAT', 'PREMIUM APARTMENT', 'TERRACE', 'IMPROVED-MAISONETTE', 'PREMIUM MAISONETTE', '2-ROOM', 'MODEL A2', 'DBSS', 'TYPE S1', 'TYPE S2', 'PREMIUM APARTMENT LOFT', '3GEN']\n",
        "\n",
        "town = ['ANG MO KIO', 'BEDOK', 'BISHAN', 'BUKIT BATOK', 'BUKIT MERAH', 'BUKIT PANJANG', 'BUKIT TIMAH', 'CENTRAL AREA', 'CHOA CHU KANG', 'CLEMENTI', 'GEYLANG', 'HOUGANG', 'JURONG EAST', 'JURONG WEST', 'KALLANG/WHAMPOA', 'MARINE PARADE', 'PASIR RIS', 'QUEENSTOWN', 'SENGKANG', 'SERANGOON', 'TAMPINES', 'TOA PAYOH', 'WOODLANDS', 'YISHUN', 'SEMBAWANG', 'PUNGGOL', 'LIM CHU KANG']\n",
        "\n",
        "\n",
        "# Function to get label encoding for each column in a row\n",
        "def get_label_encoding(row):\n",
        "    label_encodings = {}\n",
        "    for col, value in row.items():\n",
        "        if col in concatenated_dict and value in concatenated_dict[col]:\n",
        "            label_encodings[col] = concatenated_dict[col][value]\n",
        "        else:\n",
        "            label_encodings[col] = value\n",
        "\n",
        "    return label_encodings\n",
        "\n",
        "\n",
        "# Function to make predictions\n",
        "def predict_price(year, flat_type, storey_range, floor_area_sqm, flat_model, lease_commence_date, remaining_lease, town):\n",
        "    # Create a DataFrame with user inputs\n",
        "    user_input = pd.DataFrame({\n",
        "        'year': [year],\n",
        "        'flat_type': [flat_type],\n",
        "        'storey_range': [storey_range],\n",
        "        'floor_area_sqm': [floor_area_sqm],\n",
        "        'flat_model': [flat_model],\n",
        "        'lease_commence_date': [lease_commence_date],\n",
        "        'remaining_lease': [remaining_lease],\n",
        "        'town': [town]\n",
        "    })\n",
        "\n",
        "    # Apply the function to each row in new_data\n",
        "    new_data_label_encodings = user_input.apply(get_label_encoding, axis=1)\n",
        "\n",
        "    # Convert label encodings to a DataFrame\n",
        "    new_data_encoded = pd.DataFrame(list(new_data_label_encodings))\n",
        "\n",
        "    # Ensure the column order matches the order during training\n",
        "    model_filename = \"/content/drive/MyDrive/SRA/random_forest_best_model.pkl\"  # Replace with the actual filename\n",
        "    with open(model_filename, 'rb') as model_file:\n",
        "        best_model = pickle.load(model_file)\n",
        "\n",
        "    # Get the feature names from the trained model\n",
        "    model_feature_names = best_model.feature_names_in_\n",
        "\n",
        "    # Reorder columns to match the feature order during training\n",
        "    new_data_encoded = new_data_encoded[model_feature_names]\n",
        "\n",
        "    # Make predictions on the new sample data\n",
        "    new_data_predictions = best_model.predict(new_data_encoded)\n",
        "\n",
        "    # Extract the predicted price (assuming it's a scalar value)\n",
        "    predicted_price = new_data_predictions[0]\n",
        "\n",
        "    # Display the predictions\n",
        "    return predicted_price\n",
        "\n",
        "\n",
        "# Streamlit App\n",
        "st.title('HDB Resale Price Prediction')\n",
        "\n",
        "# Input fields for user to enter data\n",
        "year = st.slider('Select Year', 2017, 2023, 2020)\n",
        "flat_type = st.selectbox('Select Flat Type', flat_type)\n",
        "storey_range = st.selectbox('Select Storey Range', storey_range)\n",
        "floor_area_sqm = st.slider('Select Floor Area (sqm)', 30, 200, 80)\n",
        "flat_model = st.selectbox('Select Flat Model', flat_model)\n",
        "lease_commence_date = st.slider('Select Lease Commence Date', 1960, 2023, 1980)\n",
        "remaining_lease = st.slider('Select Remaining Lease', 0, 99, 50)\n",
        "town = st.selectbox('Select Town', town)\n",
        "\n",
        "# Make prediction when the 'Predict' button is clicked\n",
        "if st.button('Predict'):\n",
        "    predicted_price = predict_price(year, flat_type, storey_range, floor_area_sqm, flat_model, lease_commence_date, remaining_lease, town)\n",
        "    st.success(f'The predicted resale price is: ${predicted_price:,.2f}')\n",
        "\n",
        "\n"
      ],
      "metadata": {
        "colab": {
          "base_uri": "https://localhost:8080/"
        },
        "id": "xtrIoByRILo2",
        "outputId": "2adba3f0-47bb-4c88-a3f2-ed852a0a9957"
      },
      "execution_count": 61,
      "outputs": [
        {
          "output_type": "stream",
          "name": "stdout",
          "text": [
            "Writing app.py\n"
          ]
        }
      ]
    },
    {
      "cell_type": "code",
      "execution_count": 59,
      "metadata": {
        "colab": {
          "base_uri": "https://localhost:8080/"
        },
        "id": "VIi_A1lYKkos",
        "outputId": "531e78b0-a60f-42fb-9ef1-1f73bb36ef69"
      },
      "outputs": [
        {
          "output_type": "stream",
          "name": "stdout",
          "text": [
            "35.245.245.179\n"
          ]
        }
      ],
      "source": [
        "!wget -q -O - ipv4.icanhazip.com\n"
      ]
    },
    {
      "cell_type": "code",
      "execution_count": 60,
      "metadata": {
        "colab": {
          "base_uri": "https://localhost:8080/"
        },
        "id": "td_XcnnbKkrn",
        "outputId": "2a573676-99a2-44b1-cb53-3bf3affdf937"
      },
      "outputs": [
        {
          "output_type": "stream",
          "name": "stdout",
          "text": [
            "\u001b[K\u001b[?25h/tools/node/bin/lt -> /tools/node/lib/node_modules/localtunnel/bin/lt.js\n",
            "\u001b[K\u001b[?25h+ localtunnel@2.0.2\n",
            "added 22 packages from 22 contributors in 1.854s\n"
          ]
        }
      ],
      "source": [
        "! npm install -g localtunnel\n"
      ]
    },
    {
      "cell_type": "code",
      "execution_count": null,
      "metadata": {
        "colab": {
          "base_uri": "https://localhost:8080/"
        },
        "id": "tBNDHl0SKku5",
        "outputId": "a095a6f1-7ed3-4c8a-ea92-a31814643551"
      },
      "outputs": [
        {
          "output_type": "stream",
          "name": "stdout",
          "text": [
            "[..................] \\ fetchMetadata: sill resolveWithNewModule yargs@17.1.1 ch\u001b[0m\u001b[K\n",
            "Collecting usage statistics. To deactivate, set browser.gatherUsageStats to False.\n",
            "\u001b[0m\n",
            "\u001b[0m\n",
            "\u001b[34m\u001b[1m  You can now view your Streamlit app in your browser.\u001b[0m\n",
            "\u001b[0m\n",
            "\u001b[34m  Network URL: \u001b[0m\u001b[1mhttp://172.28.0.12:8501\u001b[0m\n",
            "\u001b[34m  External URL: \u001b[0m\u001b[1mhttp://35.245.245.179:8501\u001b[0m\n",
            "\u001b[0m\n",
            "\u001b[K\u001b[?25hnpx: installed 22 in 4.243s\n",
            "your url is: https://twelve-houses-search.loca.lt\n",
            "2024-01-21 08:52:27.292 Uncaught app exception\n",
            "Traceback (most recent call last):\n",
            "  File \"/usr/local/lib/python3.10/dist-packages/streamlit/runtime/scriptrunner/script_runner.py\", line 535, in _run_script\n",
            "    exec(code, module.__dict__)\n",
            "  File \"/content/app.py\", line 95, in <module>\n",
            "    predicted_price = predict_price(year, flat_type, storey_range, floor_area_sqm, flat_model, lease_commence_date, remaining_lease, town)\n",
            "  File \"/content/app.py\", line 67, in predict_price\n",
            "    new_data_encoded = new_data_encoded[data.drop('resale_price', axis=1).columns]\n",
            "  File \"/usr/local/lib/python3.10/dist-packages/pandas/core/frame.py\", line 3813, in __getitem__\n",
            "    indexer = self.columns._get_indexer_strict(key, \"columns\")[1]\n",
            "  File \"/usr/local/lib/python3.10/dist-packages/pandas/core/indexes/base.py\", line 6070, in _get_indexer_strict\n",
            "    self._raise_if_missing(keyarr, indexer, axis_name)\n",
            "  File \"/usr/local/lib/python3.10/dist-packages/pandas/core/indexes/base.py\", line 6133, in _raise_if_missing\n",
            "    raise KeyError(f\"{not_found} not in index\")\n",
            "KeyError: \"['month', 'block', 'street_name'] not in index\"\n",
            "2024-01-21 08:53:44.619 Uncaught app exception\n",
            "Traceback (most recent call last):\n",
            "  File \"/usr/local/lib/python3.10/dist-packages/streamlit/runtime/scriptrunner/script_runner.py\", line 535, in _run_script\n",
            "    exec(code, module.__dict__)\n",
            "  File \"/content/app.py\", line 87, in <module>\n",
            "    predicted_price = predict_price(year, flat_type, storey_range, floor_area_sqm, flat_model, lease_commence_date, remaining_lease, town)\n",
            "  File \"/content/app.py\", line 59, in predict_price\n",
            "    new_data_encoded = new_data_encoded[data.drop('resale_price', axis=1).columns]\n",
            "NameError: name 'data' is not defined\n",
            "2024-01-21 08:54:28.145 Uncaught app exception\n",
            "Traceback (most recent call last):\n",
            "  File \"/usr/local/lib/python3.10/dist-packages/streamlit/runtime/scriptrunner/script_runner.py\", line 535, in _run_script\n",
            "    exec(code, module.__dict__)\n",
            "  File \"/content/app.py\", line 87, in <module>\n",
            "    predicted_price = predict_price(year, flat_type, storey_range, floor_area_sqm, flat_model, lease_commence_date, remaining_lease, town)\n",
            "  File \"/content/app.py\", line 67, in predict_price\n",
            "    new_data_predictions = best_model.predict(new_data_encoded)\n",
            "  File \"/usr/local/lib/python3.10/dist-packages/sklearn/ensemble/_forest.py\", line 981, in predict\n",
            "    X = self._validate_X_predict(X)\n",
            "  File \"/usr/local/lib/python3.10/dist-packages/sklearn/ensemble/_forest.py\", line 602, in _validate_X_predict\n",
            "    X = self._validate_data(X, dtype=DTYPE, accept_sparse=\"csr\", reset=False)\n",
            "  File \"/usr/local/lib/python3.10/dist-packages/sklearn/base.py\", line 548, in _validate_data\n",
            "    self._check_feature_names(X, reset=reset)\n",
            "  File \"/usr/local/lib/python3.10/dist-packages/sklearn/base.py\", line 481, in _check_feature_names\n",
            "    raise ValueError(message)\n",
            "ValueError: The feature names should match those that were passed during fit.\n",
            "Feature names must be in the same order as they were in fit.\n",
            "\n",
            "2024-01-21 08:55:42.166 Uncaught app exception\n",
            "Traceback (most recent call last):\n",
            "  File \"/usr/local/lib/python3.10/dist-packages/streamlit/runtime/scriptrunner/script_runner.py\", line 535, in _run_script\n",
            "    exec(code, module.__dict__)\n",
            "  File \"/content/app.py\", line 87, in <module>\n",
            "    predicted_price = predict_price(year, flat_type, storey_range, floor_area_sqm, flat_model, lease_commence_date, remaining_lease, town)\n",
            "  File \"/content/app.py\", line 67, in predict_price\n",
            "    new_data_predictions = best_model.predict(new_data_encoded)\n",
            "  File \"/usr/local/lib/python3.10/dist-packages/sklearn/ensemble/_forest.py\", line 981, in predict\n",
            "    X = self._validate_X_predict(X)\n",
            "  File \"/usr/local/lib/python3.10/dist-packages/sklearn/ensemble/_forest.py\", line 602, in _validate_X_predict\n",
            "    X = self._validate_data(X, dtype=DTYPE, accept_sparse=\"csr\", reset=False)\n",
            "  File \"/usr/local/lib/python3.10/dist-packages/sklearn/base.py\", line 548, in _validate_data\n",
            "    self._check_feature_names(X, reset=reset)\n",
            "  File \"/usr/local/lib/python3.10/dist-packages/sklearn/base.py\", line 481, in _check_feature_names\n",
            "    raise ValueError(message)\n",
            "ValueError: The feature names should match those that were passed during fit.\n",
            "Feature names must be in the same order as they were in fit.\n",
            "\n",
            "2024-01-21 08:58:06.632 Uncaught app exception\n",
            "Traceback (most recent call last):\n",
            "  File \"/usr/local/lib/python3.10/dist-packages/streamlit/runtime/scriptrunner/script_runner.py\", line 535, in _run_script\n",
            "    exec(code, module.__dict__)\n",
            "  File \"/content/app.py\", line 89, in <module>\n",
            "    predicted_price = predict_price(year, flat_type, storey_range, floor_area_sqm, flat_model, lease_commence_date, remaining_lease, town)\n",
            "  File \"/content/app.py\", line 68, in predict_price\n",
            "    new_data_predictions = best_model.predict(new_data_encoded)\n",
            "  File \"/usr/local/lib/python3.10/dist-packages/sklearn/ensemble/_forest.py\", line 981, in predict\n",
            "    X = self._validate_X_predict(X)\n",
            "  File \"/usr/local/lib/python3.10/dist-packages/sklearn/ensemble/_forest.py\", line 602, in _validate_X_predict\n",
            "    X = self._validate_data(X, dtype=DTYPE, accept_sparse=\"csr\", reset=False)\n",
            "  File \"/usr/local/lib/python3.10/dist-packages/sklearn/base.py\", line 548, in _validate_data\n",
            "    self._check_feature_names(X, reset=reset)\n",
            "  File \"/usr/local/lib/python3.10/dist-packages/sklearn/base.py\", line 481, in _check_feature_names\n",
            "    raise ValueError(message)\n",
            "ValueError: The feature names should match those that were passed during fit.\n",
            "Feature names must be in the same order as they were in fit.\n",
            "\n",
            "2024-01-21 09:00:15.374 Uncaught app exception\n",
            "Traceback (most recent call last):\n",
            "  File \"/usr/local/lib/python3.10/dist-packages/streamlit/runtime/scriptrunner/script_runner.py\", line 535, in _run_script\n",
            "    exec(code, module.__dict__)\n",
            "  File \"/content/app.py\", line 94, in <module>\n",
            "    st.success(f'The predicted resale price is: ${predicted_price:,.2f}')\n",
            "TypeError: unsupported format string passed to numpy.ndarray.__format__\n"
          ]
        }
      ],
      "source": [
        "! streamlit run app.py & npx localtunnel --port 8501"
      ]
    }
  ],
  "metadata": {
    "colab": {
      "provenance": []
    },
    "kernelspec": {
      "display_name": "Python 3",
      "name": "python3"
    },
    "language_info": {
      "name": "python"
    }
  },
  "nbformat": 4,
  "nbformat_minor": 0
}